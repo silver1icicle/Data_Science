{
 "cells": [
  {
   "cell_type": "markdown",
   "metadata": {},
   "source": [
    "# Weather Data Analysis: \n",
    "## We are analysing the Edinburgh weather data for the year 2015"
   ]
  },
  {
   "cell_type": "markdown",
   "metadata": {},
   "source": [
    "# Load the libraries"
   ]
  },
  {
   "cell_type": "code",
   "execution_count": 1,
   "metadata": {
    "collapsed": true
   },
   "outputs": [],
   "source": [
    "import pandas as pd\n",
    "from dateutil import parser, rrule\n",
    "from datetime import datetime, time, date\n",
    "import time"
   ]
  },
  {
   "cell_type": "markdown",
   "metadata": {},
   "source": [
    "# Read the data"
   ]
  },
  {
   "cell_type": "code",
   "execution_count": 2,
   "metadata": {
    "collapsed": false
   },
   "outputs": [
    {
     "name": "stdout",
     "output_type": "stream",
     "text": [
      "   Unnamed: 0                 Time  TemperatureC  DewpointC  PressurehPa  \\\n",
      "0           0  2015-01-01 00:00:00          10.3        4.5       1001.9   \n",
      "1           1  2015-01-01 00:06:00          10.2        4.4       1001.9   \n",
      "2           2  2015-01-01 00:11:00          10.2        4.4       1001.9   \n",
      "3           3  2015-01-01 00:16:00          10.2        4.4       1001.9   \n",
      "4           4  2015-01-01 00:21:00          10.2        4.6       1002.3   \n",
      "\n",
      "  WindDirection  WindDirectionDegrees  WindSpeedKMH  WindSpeedGustKMH  \\\n",
      "0            SW                   236           9.0              11.9   \n",
      "1            SW                   226           6.9               7.9   \n",
      "2           SSW                   202           7.2              15.8   \n",
      "3           SSW                   202           7.9              11.9   \n",
      "4         South                   174           4.3               7.9   \n",
      "\n",
      "   Humidity  HourlyPrecipMM  Conditions  Clouds  dailyrainMM  \\\n",
      "0        67             0.0         NaN     NaN          0.0   \n",
      "1        67             0.0         NaN     NaN          0.0   \n",
      "2        67             0.0         NaN     NaN          0.0   \n",
      "3        67             0.0         NaN     NaN          0.0   \n",
      "4        68             0.0         NaN     NaN          0.0   \n",
      "\n",
      "   SolarRadiationWatts/m^2   SoftwareType              DateUTC    station  \n",
      "0                      0.0  HP1001 V1.1.3  2015-01-01 00:00:00  IEDINBUR6  \n",
      "1                      0.0  HP1001 V1.1.3  2015-01-01 00:06:00  IEDINBUR6  \n",
      "2                      0.0  HP1001 V1.1.3  2015-01-01 00:11:00  IEDINBUR6  \n",
      "3                      0.0  HP1001 V1.1.3  2015-01-01 00:16:00  IEDINBUR6  \n",
      "4                      0.0  HP1001 V1.1.3  2015-01-01 00:21:00  IEDINBUR6  \n",
      "Index(['Unnamed: 0', 'Time', 'TemperatureC', 'DewpointC', 'PressurehPa',\n",
      "       'WindDirection', 'WindDirectionDegrees', 'WindSpeedKMH',\n",
      "       'WindSpeedGustKMH', 'Humidity', 'HourlyPrecipMM', 'Conditions',\n",
      "       'Clouds', 'dailyrainMM', 'SolarRadiationWatts/m^2', 'SoftwareType',\n",
      "       'DateUTC', 'station'],\n",
      "      dtype='object')\n",
      "(101443, 18)\n"
     ]
    }
   ],
   "source": [
    "df = pd.read_csv('IEDINBUR6_weather.csv')\n",
    "print(df.head())\n",
    "print(df.columns)\n",
    "print(df.shape)                                        # (101443, 18) \n"
   ]
  },
  {
   "cell_type": "markdown",
   "metadata": {},
   "source": [
    "# Rename the variables to small meaningful names + convert types as needed!"
   ]
  },
  {
   "cell_type": "code",
   "execution_count": 3,
   "metadata": {
    "collapsed": false
   },
   "outputs": [],
   "source": [
    "df['temp'] = df['TemperatureC'].astype(float)                                     # In degree Celsius\n",
    "df['rain'] = df['HourlyPrecipMM'].astype(float)                                   # In mm                            \n",
    "df['total_rain'] = df['dailyrainMM'].astype(float)                                # In mm\n",
    "df['date'] = df['DateUTC'].apply(parser.parse)\n",
    "df['humidity'] = df['Humidity'].astype(float)\n",
    "df['wind_direction'] = df['WindDirectionDegrees']\n",
    "df['wind'] = df['WindSpeedKMH']\n"
   ]
  },
  {
   "cell_type": "markdown",
   "metadata": {
    "collapsed": true
   },
   "source": [
    "# Extract specific data and also specify appropriate column sequence"
   ]
  },
  {
   "cell_type": "code",
   "execution_count": 4,
   "metadata": {
    "collapsed": false
   },
   "outputs": [
    {
     "name": "stdout",
     "output_type": "stream",
     "text": [
      "                      date    station   temp  rain  total_rain  humidity  \\\n",
      "0      2015-01-01 00:00:00  IEDINBUR6   10.3   0.0         0.0      67.0   \n",
      "1      2015-01-01 00:06:00  IEDINBUR6   10.2   0.0         0.0      67.0   \n",
      "2      2015-01-01 00:11:00  IEDINBUR6   10.2   0.0         0.0      67.0   \n",
      "3      2015-01-01 00:16:00  IEDINBUR6   10.2   0.0         0.0      67.0   \n",
      "4      2015-01-01 00:21:00  IEDINBUR6   10.2   0.0         0.0      68.0   \n",
      "5      2015-01-01 00:26:00  IEDINBUR6   10.2   0.0         0.0      68.0   \n",
      "6      2015-01-01 00:31:00  IEDINBUR6   10.1   0.0         0.0      69.0   \n",
      "7      2015-01-01 00:36:00  IEDINBUR6   10.1   0.0         0.0      69.0   \n",
      "8      2015-01-01 00:41:00  IEDINBUR6   10.1   0.0         0.0      70.0   \n",
      "9      2015-01-01 00:47:00  IEDINBUR6   10.1   0.0         0.0      70.0   \n",
      "10     2015-01-01 00:52:00  IEDINBUR6   10.1   0.0         0.0      70.0   \n",
      "11     2015-01-01 00:57:00  IEDINBUR6   10.0   0.0         0.0      70.0   \n",
      "12     2015-01-01 01:03:00  IEDINBUR6   10.0   0.0         0.0      70.0   \n",
      "13     2015-01-01 01:08:00  IEDINBUR6    9.9   0.0         0.0      71.0   \n",
      "14     2015-01-01 01:13:00  IEDINBUR6   10.1   0.0         0.0      70.0   \n",
      "15     2015-01-01 01:19:00  IEDINBUR6   10.0   0.0         0.0      70.0   \n",
      "16     2015-01-01 01:24:00  IEDINBUR6   10.0   0.0         0.0      69.0   \n",
      "17     2015-01-01 01:29:00  IEDINBUR6   10.0   0.0         0.0      69.0   \n",
      "18     2015-01-01 01:35:00  IEDINBUR6    9.9   0.0         0.0      70.0   \n",
      "19     2015-01-01 01:40:00  IEDINBUR6    9.9   0.0         0.0      69.0   \n",
      "20     2015-01-01 01:45:00  IEDINBUR6    9.9   0.0         0.0      69.0   \n",
      "21     2015-01-01 01:51:00  IEDINBUR6    9.9   0.0         0.0      69.0   \n",
      "22     2015-01-01 01:56:00  IEDINBUR6   10.0   0.0         0.0      69.0   \n",
      "23     2015-01-01 02:01:00  IEDINBUR6   10.0   0.0         0.0      68.0   \n",
      "24     2015-01-01 02:07:00  IEDINBUR6   10.0   0.0         0.0      68.0   \n",
      "25     2015-01-01 02:12:00  IEDINBUR6   10.0   0.0         0.0      67.0   \n",
      "26     2015-01-01 02:17:00  IEDINBUR6   10.0   0.0         0.0      67.0   \n",
      "27     2015-01-01 02:23:00  IEDINBUR6   10.0   0.0         0.0      68.0   \n",
      "28     2015-01-01 02:28:00  IEDINBUR6   10.0   0.0         0.0      68.0   \n",
      "29     2015-01-01 02:33:00  IEDINBUR6   10.0   0.0         0.0      68.0   \n",
      "...                    ...        ...    ...   ...         ...       ...   \n",
      "101413 2015-12-31 21:16:00  IEDINBUR6    4.0   0.0        12.2      76.0   \n",
      "101414 2015-12-31 21:22:00  IEDINBUR6 -573.3   0.0        12.2   -9999.0   \n",
      "101415 2015-12-31 21:27:00  IEDINBUR6    3.8   0.0        12.2      77.0   \n",
      "101416 2015-12-31 21:32:00  IEDINBUR6    3.8   0.0        12.2      77.0   \n",
      "101417 2015-12-31 21:38:00  IEDINBUR6 -573.3   0.0        12.2   -9999.0   \n",
      "101418 2015-12-31 21:43:00  IEDINBUR6 -573.3   0.0        12.2   -9999.0   \n",
      "101419 2015-12-31 21:48:00  IEDINBUR6    3.8   0.0        12.2      73.0   \n",
      "101420 2015-12-31 21:53:00  IEDINBUR6    3.8   0.0        12.2      72.0   \n",
      "101421 2015-12-31 21:58:00  IEDINBUR6    3.8   0.0        12.2      71.0   \n",
      "101422 2015-12-31 22:03:00  IEDINBUR6    3.8   0.0        12.2      71.0   \n",
      "101423 2015-12-31 22:09:00  IEDINBUR6    3.8   0.0        12.2      71.0   \n",
      "101424 2015-12-31 22:14:00  IEDINBUR6    3.7   0.0        12.2      72.0   \n",
      "101425 2015-12-31 22:19:00  IEDINBUR6    3.6   0.0        12.2      72.0   \n",
      "101426 2015-12-31 22:25:00  IEDINBUR6    3.5   0.0        12.2      73.0   \n",
      "101427 2015-12-31 22:30:00  IEDINBUR6    3.5   0.0        12.2      73.0   \n",
      "101428 2015-12-31 22:35:00  IEDINBUR6 -573.3   0.0        12.2   -9999.0   \n",
      "101429 2015-12-31 22:40:00  IEDINBUR6    3.2   0.0        12.2      73.0   \n",
      "101430 2015-12-31 22:46:00  IEDINBUR6    3.2   0.0        12.2      73.0   \n",
      "101431 2015-12-31 22:51:00  IEDINBUR6 -573.3   0.0        12.2   -9999.0   \n",
      "101432 2015-12-31 22:57:00  IEDINBUR6 -573.3   0.0        12.2   -9999.0   \n",
      "101433 2015-12-31 23:02:00  IEDINBUR6    3.0   0.0        12.2      72.0   \n",
      "101434 2015-12-31 23:07:00  IEDINBUR6    3.0   0.0        12.2      72.0   \n",
      "101435 2015-12-31 23:13:00  IEDINBUR6 -573.3   0.0        12.2   -9999.0   \n",
      "101436 2015-12-31 23:18:00  IEDINBUR6 -573.3   0.0        12.2   -9999.0   \n",
      "101437 2015-12-31 23:23:00  IEDINBUR6 -573.3   0.0        12.2   -9999.0   \n",
      "101438 2015-12-31 23:29:00  IEDINBUR6 -573.3   0.0        12.2   -9999.0   \n",
      "101439 2015-12-31 23:34:00  IEDINBUR6    2.9   0.0        12.2      68.0   \n",
      "101440 2015-12-31 23:45:00  IEDINBUR6 -573.3   0.0        12.2   -9999.0   \n",
      "101441 2015-12-31 23:50:00  IEDINBUR6    3.1   0.0        12.2      74.0   \n",
      "101442 2015-12-31 23:55:00  IEDINBUR6    3.0   0.0        12.2      74.0   \n",
      "\n",
      "          wind  \n",
      "0          9.0  \n",
      "1          6.9  \n",
      "2          7.2  \n",
      "3          7.9  \n",
      "4          4.3  \n",
      "5         11.6  \n",
      "6         11.9  \n",
      "7         10.5  \n",
      "8         15.4  \n",
      "9         11.6  \n",
      "10        11.6  \n",
      "11        10.5  \n",
      "12        11.6  \n",
      "13        13.4  \n",
      "14         9.7  \n",
      "15        18.0  \n",
      "16         9.7  \n",
      "17        16.6  \n",
      "18        14.3  \n",
      "19        13.0  \n",
      "20        10.5  \n",
      "21        19.8  \n",
      "22        10.8  \n",
      "23        13.0  \n",
      "24         9.0  \n",
      "25        13.4  \n",
      "26        14.3  \n",
      "27        14.3  \n",
      "28        16.6  \n",
      "29        21.6  \n",
      "...        ...  \n",
      "101413    10.5  \n",
      "101414 -1608.8  \n",
      "101415    14.8  \n",
      "101416    14.8  \n",
      "101417 -1608.8  \n",
      "101418 -1608.8  \n",
      "101419    11.9  \n",
      "101420    14.3  \n",
      "101421    24.8  \n",
      "101422     5.5  \n",
      "101423    10.5  \n",
      "101424     4.3  \n",
      "101425     9.7  \n",
      "101426     7.9  \n",
      "101427     7.9  \n",
      "101428 -1608.8  \n",
      "101429    14.8  \n",
      "101430    14.8  \n",
      "101431 -1608.8  \n",
      "101432 -1608.8  \n",
      "101433     5.5  \n",
      "101434     5.5  \n",
      "101435 -1608.8  \n",
      "101436 -1608.8  \n",
      "101437 -1608.8  \n",
      "101438 -1608.8  \n",
      "101439     1.8  \n",
      "101440 -1608.8  \n",
      "101441     4.7  \n",
      "101442    10.5  \n",
      "\n",
      "[101443 rows x 7 columns]\n",
      "(101443, 7)\n"
     ]
    }
   ],
   "source": [
    "df_new = df.loc[:, ['date', 'station', 'temp', 'rain', 'total_rain', 'humidity', 'wind']]\n",
    "print(df_new)\n",
    "print(df_new.shape)                          # (101443, 7)  \n",
    "\n",
    "# Observe that the data is recorded approximately every 5 min. "
   ]
  },
  {
   "cell_type": "markdown",
   "metadata": {},
   "source": [
    "# Data pruning and cleaning"
   ]
  },
  {
   "cell_type": "code",
   "execution_count": 5,
   "metadata": {
    "collapsed": false
   },
   "outputs": [
    {
     "name": "stdout",
     "output_type": "stream",
     "text": [
      "(101169, 7)\n"
     ]
    }
   ],
   "source": [
    "# Ensure that we are handling data only for 2015. \n",
    "df_new = df_new[(df_new['date'] >= datetime(2015,1,1)) & (df_new['date'] <= datetime(2015,12,31))]    # Dates: YYYY,MM,DD\n",
    "print(df_new.shape)                # Rows reduced from (101443, 7) ---> (101169, 7)\n",
    "\n",
    "\n",
    "# There are few readings where the parameter 'rain' is negative (-2539.7) where the actual values are missing. \n",
    "# lets get rid of such readings     "
   ]
  },
  {
   "cell_type": "code",
   "execution_count": 6,
   "metadata": {
    "collapsed": false
   },
   "outputs": [
    {
     "name": "stdout",
     "output_type": "stream",
     "text": [
      "(101169, 7)\n",
      "                 date    station  temp  rain  total_rain  humidity  wind\n",
      "0 2015-01-01 00:00:00  IEDINBUR6  10.3   0.0         0.0      67.0   9.0\n",
      "1 2015-01-01 00:06:00  IEDINBUR6  10.2   0.0         0.0      67.0   6.9\n",
      "2 2015-01-01 00:11:00  IEDINBUR6  10.2   0.0         0.0      67.0   7.2\n",
      "3 2015-01-01 00:16:00  IEDINBUR6  10.2   0.0         0.0      67.0   7.9\n",
      "4 2015-01-01 00:21:00  IEDINBUR6  10.2   0.0         0.0      68.0   4.3\n",
      "(101168, 7)\n"
     ]
    }
   ],
   "source": [
    "# First get the original row count\n",
    "print(df_new.shape)                   # (101169, 7)  \n",
    "\n",
    "# Get rid of the missing values i.e. values of 'rain' which are negative \n",
    "df_new = df_new[df_new.rain > -500]\n",
    "print(df_new.head())\n",
    "\n",
    "# Now get the final row count\n",
    "print(df_new.shape)                  # (101168, 7)   \n",
    "\n",
    "# i.e. there was a single row where the reading for 'rain' was missing"
   ]
  },
  {
   "cell_type": "code",
   "execution_count": 7,
   "metadata": {
    "collapsed": false
   },
   "outputs": [
    {
     "data": {
      "text/html": [
       "<div>\n",
       "<style scoped>\n",
       "    .dataframe tbody tr th:only-of-type {\n",
       "        vertical-align: middle;\n",
       "    }\n",
       "\n",
       "    .dataframe tbody tr th {\n",
       "        vertical-align: top;\n",
       "    }\n",
       "\n",
       "    .dataframe thead th {\n",
       "        text-align: right;\n",
       "    }\n",
       "</style>\n",
       "<table border=\"1\" class=\"dataframe\">\n",
       "  <thead>\n",
       "    <tr style=\"text-align: right;\">\n",
       "      <th></th>\n",
       "      <th>date</th>\n",
       "      <th>station</th>\n",
       "      <th>temp</th>\n",
       "      <th>rain</th>\n",
       "      <th>total_rain</th>\n",
       "      <th>humidity</th>\n",
       "      <th>wind</th>\n",
       "      <th>day</th>\n",
       "    </tr>\n",
       "  </thead>\n",
       "  <tbody>\n",
       "    <tr>\n",
       "      <th>0</th>\n",
       "      <td>2015-01-01 00:00:00</td>\n",
       "      <td>IEDINBUR6</td>\n",
       "      <td>10.3</td>\n",
       "      <td>0.0</td>\n",
       "      <td>0.0</td>\n",
       "      <td>67.0</td>\n",
       "      <td>9.0</td>\n",
       "      <td>2015-01-01</td>\n",
       "    </tr>\n",
       "    <tr>\n",
       "      <th>1</th>\n",
       "      <td>2015-01-01 00:06:00</td>\n",
       "      <td>IEDINBUR6</td>\n",
       "      <td>10.2</td>\n",
       "      <td>0.0</td>\n",
       "      <td>0.0</td>\n",
       "      <td>67.0</td>\n",
       "      <td>6.9</td>\n",
       "      <td>2015-01-01</td>\n",
       "    </tr>\n",
       "    <tr>\n",
       "      <th>2</th>\n",
       "      <td>2015-01-01 00:11:00</td>\n",
       "      <td>IEDINBUR6</td>\n",
       "      <td>10.2</td>\n",
       "      <td>0.0</td>\n",
       "      <td>0.0</td>\n",
       "      <td>67.0</td>\n",
       "      <td>7.2</td>\n",
       "      <td>2015-01-01</td>\n",
       "    </tr>\n",
       "    <tr>\n",
       "      <th>3</th>\n",
       "      <td>2015-01-01 00:16:00</td>\n",
       "      <td>IEDINBUR6</td>\n",
       "      <td>10.2</td>\n",
       "      <td>0.0</td>\n",
       "      <td>0.0</td>\n",
       "      <td>67.0</td>\n",
       "      <td>7.9</td>\n",
       "      <td>2015-01-01</td>\n",
       "    </tr>\n",
       "    <tr>\n",
       "      <th>4</th>\n",
       "      <td>2015-01-01 00:21:00</td>\n",
       "      <td>IEDINBUR6</td>\n",
       "      <td>10.2</td>\n",
       "      <td>0.0</td>\n",
       "      <td>0.0</td>\n",
       "      <td>68.0</td>\n",
       "      <td>4.3</td>\n",
       "      <td>2015-01-01</td>\n",
       "    </tr>\n",
       "  </tbody>\n",
       "</table>\n",
       "</div>"
      ],
      "text/plain": [
       "                 date    station  temp  rain  total_rain  humidity  wind  \\\n",
       "0 2015-01-01 00:00:00  IEDINBUR6  10.3   0.0         0.0      67.0   9.0   \n",
       "1 2015-01-01 00:06:00  IEDINBUR6  10.2   0.0         0.0      67.0   6.9   \n",
       "2 2015-01-01 00:11:00  IEDINBUR6  10.2   0.0         0.0      67.0   7.2   \n",
       "3 2015-01-01 00:16:00  IEDINBUR6  10.2   0.0         0.0      67.0   7.9   \n",
       "4 2015-01-01 00:21:00  IEDINBUR6  10.2   0.0         0.0      68.0   4.3   \n",
       "\n",
       "          day  \n",
       "0  2015-01-01  \n",
       "1  2015-01-01  \n",
       "2  2015-01-01  \n",
       "3  2015-01-01  \n",
       "4  2015-01-01  "
      ]
     },
     "execution_count": 7,
     "metadata": {},
     "output_type": "execute_result"
    }
   ],
   "source": [
    "# Assign \"Day\" to every \"Date\" entry i.e. Fetch the Date exclusive\n",
    "df_new['day'] = df_new['date'].apply(lambda x: x.date())\n",
    "df_new.head()\n",
    "\n",
    "# NOTE: the apply() is used to apply a function to a DataFrame axis."
   ]
  },
  {
   "cell_type": "code",
   "execution_count": 8,
   "metadata": {
    "collapsed": false
   },
   "outputs": [
    {
     "name": "stdout",
     "output_type": "stream",
     "text": [
      "                 date    station  temp  rain  total_rain  humidity  wind  \\\n",
      "0 2015-01-01 00:00:00  IEDINBUR6  10.3   0.0         0.0      67.0   9.0   \n",
      "1 2015-01-01 00:06:00  IEDINBUR6  10.2   0.0         0.0      67.0   6.9   \n",
      "2 2015-01-01 00:11:00  IEDINBUR6  10.2   0.0         0.0      67.0   7.2   \n",
      "3 2015-01-01 00:16:00  IEDINBUR6  10.2   0.0         0.0      67.0   7.9   \n",
      "4 2015-01-01 00:21:00  IEDINBUR6  10.2   0.0         0.0      68.0   4.3   \n",
      "\n",
      "          day time_of_day  day_of_week  hour_of_day  \n",
      "0  2015-01-01    00:00:00            3            0  \n",
      "1  2015-01-01    00:06:00            3            0  \n",
      "2  2015-01-01    00:11:00            3            0  \n",
      "3  2015-01-01    00:16:00            3            0  \n",
      "4  2015-01-01    00:21:00            3            0  \n",
      "<class 'pandas._libs.tslibs.timestamps.Timestamp'>\n"
     ]
    }
   ],
   "source": [
    "# Fetch the time, day of week and hour of each timestamp \n",
    "df_new['time_of_day'] = df['date'].apply(lambda x: x.time())        \n",
    "df_new['day_of_week'] = df['date'].apply(lambda x: x.weekday())     # Monday == 0 and Sunday == 6\n",
    "df_new['hour_of_day'] = df['date'].apply(lambda x: x.hour)          # Ranges from [0-23] \n",
    "print(df_new.head())\n",
    "\n",
    "# NOTE: All these datetime operations were possible, as the datatype of 'date' column is [Timestamp].\n",
    "print(type(df_new.date[0]))"
   ]
  },
  {
   "cell_type": "code",
   "execution_count": 9,
   "metadata": {
    "collapsed": false
   },
   "outputs": [
    {
     "name": "stdout",
     "output_type": "stream",
     "text": [
      "                 date    station  temp  rain  total_rain  humidity  wind  \\\n",
      "0 2015-01-01 00:00:00  IEDINBUR6  10.3   0.0         0.0      67.0   9.0   \n",
      "1 2015-01-01 00:06:00  IEDINBUR6  10.2   0.0         0.0      67.0   6.9   \n",
      "2 2015-01-01 00:11:00  IEDINBUR6  10.2   0.0         0.0      67.0   7.2   \n",
      "3 2015-01-01 00:16:00  IEDINBUR6  10.2   0.0         0.0      67.0   7.9   \n",
      "4 2015-01-01 00:21:00  IEDINBUR6  10.2   0.0         0.0      68.0   4.3   \n",
      "\n",
      "          day time_of_day  day_of_week  hour_of_day  month  \n",
      "0  2015-01-01    00:00:00            3            0      1  \n",
      "1  2015-01-01    00:06:00            3            0      1  \n",
      "2  2015-01-01    00:11:00            3            0      1  \n",
      "3  2015-01-01    00:16:00            3            0      1  \n",
      "4  2015-01-01    00:21:00            3            0      1  \n"
     ]
    }
   ],
   "source": [
    "# To view monthly patterns, mark the 'Month' for each entry\n",
    "df_new['month'] = df['date'].apply(lambda x: x.month)         # Ranges from [1-12]\n",
    "print(df_new.head())\n"
   ]
  },
  {
   "cell_type": "code",
   "execution_count": 10,
   "metadata": {
    "collapsed": false
   },
   "outputs": [
    {
     "name": "stdout",
     "output_type": "stream",
     "text": [
      "                 date    station  temp  rain  total_rain  humidity  wind  \\\n",
      "0 2015-01-01 00:00:00  IEDINBUR6  10.3   0.0         0.0      67.0   9.0   \n",
      "1 2015-01-01 00:06:00  IEDINBUR6  10.2   0.0         0.0      67.0   6.9   \n",
      "2 2015-01-01 00:11:00  IEDINBUR6  10.2   0.0         0.0      67.0   7.2   \n",
      "3 2015-01-01 00:16:00  IEDINBUR6  10.2   0.0         0.0      67.0   7.9   \n",
      "4 2015-01-01 00:21:00  IEDINBUR6  10.2   0.0         0.0      68.0   4.3   \n",
      "\n",
      "          day time_of_day  day_of_week  hour_of_day  month  working_day  \n",
      "0  2015-01-01    00:00:00            3            0      1         True  \n",
      "1  2015-01-01    00:06:00            3            0      1         True  \n",
      "2  2015-01-01    00:11:00            3            0      1         True  \n",
      "3  2015-01-01    00:16:00            3            0      1         True  \n",
      "4  2015-01-01    00:21:00            3            0      1         True  \n"
     ]
    }
   ],
   "source": [
    "# Verify if each time stamp is on a working day\n",
    "df_new['working_day'] = (df_new['day_of_week'] >=0) & (df_new['day_of_week'] <= 4)\n",
    "print(df_new.head())\n",
    "\n",
    "# NOTE: In pandas we always make use of the bitwise operators: |(or), & (and), in place of the conventional \"and\" and \"or\" operators. "
   ]
  },
  {
   "cell_type": "code",
   "execution_count": 11,
   "metadata": {
    "collapsed": false
   },
   "outputs": [
    {
     "name": "stdout",
     "output_type": "stream",
     "text": [
      "                 date    station  temp  rain  total_rain  humidity  wind  \\\n",
      "0 2015-01-01 00:00:00  IEDINBUR6  10.3   0.0         0.0      67.0   9.0   \n",
      "1 2015-01-01 00:06:00  IEDINBUR6  10.2   0.0         0.0      67.0   6.9   \n",
      "2 2015-01-01 00:11:00  IEDINBUR6  10.2   0.0         0.0      67.0   7.2   \n",
      "3 2015-01-01 00:16:00  IEDINBUR6  10.2   0.0         0.0      67.0   7.9   \n",
      "4 2015-01-01 00:21:00  IEDINBUR6  10.2   0.0         0.0      68.0   4.3   \n",
      "\n",
      "          day time_of_day  day_of_week  hour_of_day  month  working_day  \\\n",
      "0  2015-01-01    00:00:00            3            0      1         True   \n",
      "1  2015-01-01    00:06:00            3            0      1         True   \n",
      "2  2015-01-01    00:11:00            3            0      1         True   \n",
      "3  2015-01-01    00:16:00            3            0      1         True   \n",
      "4  2015-01-01    00:21:00            3            0      1         True   \n",
      "\n",
      "   morning  evening  \n",
      "0    False    False  \n",
      "1    False    False  \n",
      "2    False    False  \n",
      "3    False    False  \n",
      "4    False    False  \n"
     ]
    }
   ],
   "source": [
    "# Classify the time into morning and evening office times. \n",
    "# Assume morning office time:------------------> (8:15-9:00 AM) \n",
    "# Assume evening office time:------------------> (5:15-6:00 PM)\n",
    " \n",
    "from datetime import time               # Again import esp if you have imported datetime's time and the separate time library.\n",
    "df_new['morning'] = (df_new['time_of_day'] >= time(8, 15)) & (df_new['time_of_day'] <= time(9, 0))\n",
    "df_new['evening'] = (df_new['time_of_day'] >= time(17, 15)) & (df_new['time_of_day'] <= time(18, 0))\n",
    "print(df_new.head())\n"
   ]
  },
  {
   "cell_type": "code",
   "execution_count": 12,
   "metadata": {
    "collapsed": false
   },
   "outputs": [
    {
     "name": "stdout",
     "output_type": "stream",
     "text": [
      "                 date    station  temp  rain  total_rain  humidity  wind  \\\n",
      "0 2015-01-01 00:00:00  IEDINBUR6  10.3   0.0         0.0      67.0   9.0   \n",
      "1 2015-01-01 00:06:00  IEDINBUR6  10.2   0.0         0.0      67.0   6.9   \n",
      "2 2015-01-01 00:11:00  IEDINBUR6  10.2   0.0         0.0      67.0   7.2   \n",
      "3 2015-01-01 00:16:00  IEDINBUR6  10.2   0.0         0.0      67.0   7.9   \n",
      "4 2015-01-01 00:21:00  IEDINBUR6  10.2   0.0         0.0      68.0   4.3   \n",
      "\n",
      "          day time_of_day  day_of_week  hour_of_day  month  working_day  \\\n",
      "0  2015-01-01    00:00:00            3            0      1         True   \n",
      "1  2015-01-01    00:06:00            3            0      1         True   \n",
      "2  2015-01-01    00:11:00            3            0      1         True   \n",
      "3  2015-01-01    00:16:00            3            0      1         True   \n",
      "4  2015-01-01    00:21:00            3            0      1         True   \n",
      "\n",
      "   morning  evening  raining  \n",
      "0    False    False    False  \n",
      "1    False    False    False  \n",
      "2    False    False    False  \n",
      "3    False    False    False  \n",
      "4    False    False    False  \n"
     ]
    }
   ],
   "source": [
    "# Mark if there is any rain at all\n",
    "df_new['raining'] = df_new['rain'] > 0.0\n",
    "print(df_new.head())\n"
   ]
  },
  {
   "cell_type": "code",
   "execution_count": 13,
   "metadata": {
    "collapsed": false
   },
   "outputs": [
    {
     "name": "stdout",
     "output_type": "stream",
     "text": [
      "                 date    station  temp  rain  total_rain  humidity  wind  \\\n",
      "0 2015-01-01 00:00:00  IEDINBUR6  10.3   0.0         0.0      67.0   9.0   \n",
      "1 2015-01-01 00:06:00  IEDINBUR6  10.2   0.0         0.0      67.0   6.9   \n",
      "2 2015-01-01 00:11:00  IEDINBUR6  10.2   0.0         0.0      67.0   7.2   \n",
      "3 2015-01-01 00:16:00  IEDINBUR6  10.2   0.0         0.0      67.0   7.9   \n",
      "4 2015-01-01 00:21:00  IEDINBUR6  10.2   0.0         0.0      68.0   4.3   \n",
      "\n",
      "          day time_of_day  day_of_week  hour_of_day  month  working_day  \\\n",
      "0  2015-01-01    00:00:00            3            0      1         True   \n",
      "1  2015-01-01    00:06:00            3            0      1         True   \n",
      "2  2015-01-01    00:11:00            3            0      1         True   \n",
      "3  2015-01-01    00:16:00            3            0      1         True   \n",
      "4  2015-01-01    00:21:00            3            0      1         True   \n",
      "\n",
      "   morning  evening  raining  wet_cycle  \n",
      "0    False    False    False      False  \n",
      "1    False    False    False      False  \n",
      "2    False    False    False      False  \n",
      "3    False    False    False      False  \n",
      "4    False    False    False      False  \n"
     ]
    }
   ],
   "source": [
    "# Mark if the person is subjected to 'wet cycling' if its the morning office travel time and if its raining @ that time\n",
    "df_new['wet_cycle'] = (df_new['working_day']) & ((df_new['morning'] & df_new['raining'])|\n",
    "                                                 (df_new['evening'] & df_new['raining']))\n",
    "print(df_new.head())\n"
   ]
  },
  {
   "cell_type": "markdown",
   "metadata": {},
   "source": [
    "### Now the data is clean and ready for analysis"
   ]
  },
  {
   "cell_type": "markdown",
   "metadata": {},
   "source": [
    "# DATA SUMMARIZATION AND AGGREGATION:\n",
    "In order to gain insight from the data, we will aggregate/ group over days and months. "
   ]
  },
  {
   "cell_type": "code",
   "execution_count": 14,
   "metadata": {
    "collapsed": false
   },
   "outputs": [
    {
     "name": "stdout",
     "output_type": "stream",
     "text": [
      "Index(['date', 'station', 'temp', 'rain', 'total_rain', 'humidity', 'wind',\n",
      "       'day', 'time_of_day', 'day_of_week', 'hour_of_day', 'month',\n",
      "       'working_day', 'morning', 'evening', 'raining', 'wet_cycle'],\n",
      "      dtype='object')\n",
      "            day  wet_cycle\n",
      "0    2015-01-01       True\n",
      "1    2015-01-02      False\n",
      "2    2015-01-05      False\n",
      "3    2015-01-06       True\n",
      "4    2015-01-07       True\n",
      "5    2015-01-08      False\n",
      "6    2015-01-09       True\n",
      "7    2015-01-12       True\n",
      "8    2015-01-13      False\n",
      "9    2015-01-14      False\n",
      "10   2015-01-15      False\n",
      "11   2015-01-16      False\n",
      "12   2015-01-19      False\n",
      "13   2015-01-20      False\n",
      "14   2015-01-21      False\n",
      "15   2015-01-22      False\n",
      "16   2015-01-23       True\n",
      "17   2015-01-26      False\n",
      "18   2015-01-27      False\n",
      "19   2015-01-28      False\n",
      "20   2015-01-29      False\n",
      "21   2015-01-30      False\n",
      "22   2015-02-02      False\n",
      "23   2015-02-03      False\n",
      "24   2015-02-04      False\n",
      "25   2015-02-05      False\n",
      "26   2015-02-06      False\n",
      "27   2015-02-09      False\n",
      "28   2015-02-10      False\n",
      "29   2015-02-11      False\n",
      "..          ...        ...\n",
      "230  2015-11-19      False\n",
      "231  2015-11-20      False\n",
      "232  2015-11-23      False\n",
      "233  2015-11-24      False\n",
      "234  2015-11-25      False\n",
      "235  2015-11-26      False\n",
      "236  2015-11-27      False\n",
      "237  2015-11-30      False\n",
      "238  2015-12-01       True\n",
      "239  2015-12-02       True\n",
      "240  2015-12-03       True\n",
      "241  2015-12-04       True\n",
      "242  2015-12-07      False\n",
      "243  2015-12-08       True\n",
      "244  2015-12-09       True\n",
      "245  2015-12-10      False\n",
      "246  2015-12-11      False\n",
      "247  2015-12-14      False\n",
      "248  2015-12-15      False\n",
      "249  2015-12-16      False\n",
      "250  2015-12-17      False\n",
      "251  2015-12-18      False\n",
      "252  2015-12-21      False\n",
      "253  2015-12-22       True\n",
      "254  2015-12-23      False\n",
      "255  2015-12-24      False\n",
      "256  2015-12-25       True\n",
      "257  2015-12-28      False\n",
      "258  2015-12-29      False\n",
      "259  2015-12-30       True\n",
      "\n",
      "[260 rows x 2 columns]\n"
     ]
    }
   ],
   "source": [
    "# Fetch the column names\n",
    "print(df_new.columns)\n",
    "\n",
    "\n",
    "# Focus on the working days which had rains during office commute hours.\n",
    "series_wetCycling = df_new[df_new['working_day'] == True].groupby('day')['wet_cycle'].any()     # any() returns a boolean whether any element is True over requested axis\n",
    "df_wetCycling = pd.DataFrame(series_wetCycling).reset_index()\n",
    "print(df_wetCycling)\n"
   ]
  },
  {
   "cell_type": "code",
   "execution_count": 15,
   "metadata": {
    "collapsed": false
   },
   "outputs": [
    {
     "name": "stdout",
     "output_type": "stream",
     "text": [
      "          day  wet_cycle  month\n",
      "0  2015-01-01       True      1\n",
      "1  2015-01-02      False      1\n",
      "2  2015-01-05      False      1\n",
      "3  2015-01-06       True      1\n",
      "4  2015-01-07       True      1\n"
     ]
    },
    {
     "data": {
      "text/html": [
       "<div>\n",
       "<style scoped>\n",
       "    .dataframe tbody tr th:only-of-type {\n",
       "        vertical-align: middle;\n",
       "    }\n",
       "\n",
       "    .dataframe tbody tr th {\n",
       "        vertical-align: top;\n",
       "    }\n",
       "\n",
       "    .dataframe thead th {\n",
       "        text-align: right;\n",
       "    }\n",
       "</style>\n",
       "<table border=\"1\" class=\"dataframe\">\n",
       "  <thead>\n",
       "    <tr style=\"text-align: right;\">\n",
       "      <th></th>\n",
       "      <th>month</th>\n",
       "      <th>wet_cycle</th>\n",
       "      <th>days</th>\n",
       "    </tr>\n",
       "  </thead>\n",
       "  <tbody>\n",
       "    <tr>\n",
       "      <th>0</th>\n",
       "      <td>1</td>\n",
       "      <td>False</td>\n",
       "      <td>16</td>\n",
       "    </tr>\n",
       "    <tr>\n",
       "      <th>1</th>\n",
       "      <td>1</td>\n",
       "      <td>True</td>\n",
       "      <td>6</td>\n",
       "    </tr>\n",
       "    <tr>\n",
       "      <th>2</th>\n",
       "      <td>2</td>\n",
       "      <td>False</td>\n",
       "      <td>19</td>\n",
       "    </tr>\n",
       "    <tr>\n",
       "      <th>3</th>\n",
       "      <td>2</td>\n",
       "      <td>True</td>\n",
       "      <td>1</td>\n",
       "    </tr>\n",
       "    <tr>\n",
       "      <th>4</th>\n",
       "      <td>3</td>\n",
       "      <td>False</td>\n",
       "      <td>18</td>\n",
       "    </tr>\n",
       "    <tr>\n",
       "      <th>5</th>\n",
       "      <td>3</td>\n",
       "      <td>True</td>\n",
       "      <td>4</td>\n",
       "    </tr>\n",
       "    <tr>\n",
       "      <th>6</th>\n",
       "      <td>4</td>\n",
       "      <td>False</td>\n",
       "      <td>21</td>\n",
       "    </tr>\n",
       "    <tr>\n",
       "      <th>7</th>\n",
       "      <td>4</td>\n",
       "      <td>True</td>\n",
       "      <td>1</td>\n",
       "    </tr>\n",
       "    <tr>\n",
       "      <th>8</th>\n",
       "      <td>5</td>\n",
       "      <td>False</td>\n",
       "      <td>16</td>\n",
       "    </tr>\n",
       "    <tr>\n",
       "      <th>9</th>\n",
       "      <td>5</td>\n",
       "      <td>True</td>\n",
       "      <td>5</td>\n",
       "    </tr>\n",
       "    <tr>\n",
       "      <th>10</th>\n",
       "      <td>6</td>\n",
       "      <td>False</td>\n",
       "      <td>21</td>\n",
       "    </tr>\n",
       "    <tr>\n",
       "      <th>11</th>\n",
       "      <td>6</td>\n",
       "      <td>True</td>\n",
       "      <td>1</td>\n",
       "    </tr>\n",
       "    <tr>\n",
       "      <th>12</th>\n",
       "      <td>7</td>\n",
       "      <td>False</td>\n",
       "      <td>21</td>\n",
       "    </tr>\n",
       "    <tr>\n",
       "      <th>13</th>\n",
       "      <td>7</td>\n",
       "      <td>True</td>\n",
       "      <td>2</td>\n",
       "    </tr>\n",
       "    <tr>\n",
       "      <th>14</th>\n",
       "      <td>8</td>\n",
       "      <td>False</td>\n",
       "      <td>18</td>\n",
       "    </tr>\n",
       "    <tr>\n",
       "      <th>15</th>\n",
       "      <td>8</td>\n",
       "      <td>True</td>\n",
       "      <td>3</td>\n",
       "    </tr>\n",
       "    <tr>\n",
       "      <th>16</th>\n",
       "      <td>9</td>\n",
       "      <td>False</td>\n",
       "      <td>21</td>\n",
       "    </tr>\n",
       "    <tr>\n",
       "      <th>17</th>\n",
       "      <td>9</td>\n",
       "      <td>True</td>\n",
       "      <td>1</td>\n",
       "    </tr>\n",
       "    <tr>\n",
       "      <th>18</th>\n",
       "      <td>10</td>\n",
       "      <td>False</td>\n",
       "      <td>19</td>\n",
       "    </tr>\n",
       "    <tr>\n",
       "      <th>19</th>\n",
       "      <td>10</td>\n",
       "      <td>True</td>\n",
       "      <td>3</td>\n",
       "    </tr>\n",
       "    <tr>\n",
       "      <th>20</th>\n",
       "      <td>11</td>\n",
       "      <td>False</td>\n",
       "      <td>13</td>\n",
       "    </tr>\n",
       "    <tr>\n",
       "      <th>21</th>\n",
       "      <td>11</td>\n",
       "      <td>True</td>\n",
       "      <td>8</td>\n",
       "    </tr>\n",
       "    <tr>\n",
       "      <th>22</th>\n",
       "      <td>12</td>\n",
       "      <td>False</td>\n",
       "      <td>13</td>\n",
       "    </tr>\n",
       "    <tr>\n",
       "      <th>23</th>\n",
       "      <td>12</td>\n",
       "      <td>True</td>\n",
       "      <td>9</td>\n",
       "    </tr>\n",
       "  </tbody>\n",
       "</table>\n",
       "</div>"
      ],
      "text/plain": [
       "    month  wet_cycle  days\n",
       "0       1      False    16\n",
       "1       1       True     6\n",
       "2       2      False    19\n",
       "3       2       True     1\n",
       "4       3      False    18\n",
       "5       3       True     4\n",
       "6       4      False    21\n",
       "7       4       True     1\n",
       "8       5      False    16\n",
       "9       5       True     5\n",
       "10      6      False    21\n",
       "11      6       True     1\n",
       "12      7      False    21\n",
       "13      7       True     2\n",
       "14      8      False    18\n",
       "15      8       True     3\n",
       "16      9      False    21\n",
       "17      9       True     1\n",
       "18     10      False    19\n",
       "19     10       True     3\n",
       "20     11      False    13\n",
       "21     11       True     8\n",
       "22     12      False    13\n",
       "23     12       True     9"
      ]
     },
     "execution_count": 15,
     "metadata": {},
     "output_type": "execute_result"
    }
   ],
   "source": [
    "# Instead of the individual dates [too much granularity], lets group by months \n",
    "# First extract the months from the date\n",
    "df_wetCycling['month'] = df_wetCycling['day'].apply(lambda x: x.month)\n",
    "print(df_wetCycling.head())\n",
    "\n",
    "# Now group on months\n",
    "df_monthWise_wetCycling = df_wetCycling.groupby('month')['wet_cycle'].value_counts().reset_index(name='days')\n",
    "df_monthWise_wetCycling\n"
   ]
  },
  {
   "cell_type": "code",
   "execution_count": 16,
   "metadata": {
    "collapsed": false
   },
   "outputs": [
    {
     "name": "stdout",
     "output_type": "stream",
     "text": [
      "   month  rainy  days\n",
      "0      1  False    16\n",
      "1      1   True     6\n",
      "2      2  False    19\n",
      "3      2   True     1\n",
      "4      3  False    18\n",
      "\n",
      "\n",
      "    month rainy  days\n",
      "0      1   dry    16\n",
      "1      1   wet     6\n",
      "2      2   dry    19\n",
      "3      2   wet     1\n",
      "4      3   dry    18\n",
      "\n",
      "\n",
      "    month rainy  days month_name\n",
      "0      1   dry    16        Jan\n",
      "1      1   wet     6        Jan\n",
      "2      2   dry    19        Feb\n",
      "3      2   wet     1        Feb\n",
      "4      3   dry    18        Mar\n"
     ]
    }
   ],
   "source": [
    "# Rename the columns\n",
    "df_monthWise_wetCycling.rename(columns={'wet_cycle':'rainy'}, inplace=True)\n",
    "print(df_monthWise_wetCycling.head())\n",
    "\n",
    "# Replace the 'rainy' column values to something meaningful\n",
    "df_monthWise_wetCycling.replace({'rainy':{True:\"wet\", False:\"dry\"}}, inplace=True)\n",
    "print(\"\\n\\n\", df_monthWise_wetCycling.head())\n",
    "\n",
    "# Use the 'month' column and create a new column 'month_names'\n",
    "import calendar\n",
    "df_monthWise_wetCycling['month_name'] = df_monthWise_wetCycling['month'].apply(lambda x: calendar.month_abbr[x])\n",
    "print(\"\\n\\n\", df_monthWise_wetCycling.head())\n"
   ]
  },
  {
   "cell_type": "markdown",
   "metadata": {},
   "source": [
    "# Get aggregate stats for each day in the dataset"
   ]
  },
  {
   "cell_type": "code",
   "execution_count": 17,
   "metadata": {
    "collapsed": false
   },
   "outputs": [
    {
     "name": "stdout",
     "output_type": "stream",
     "text": [
      "                 date    station  temp  rain  total_rain  humidity  wind  \\\n",
      "0 2015-01-01 00:00:00  IEDINBUR6  10.3   0.0         0.0      67.0   9.0   \n",
      "1 2015-01-01 00:06:00  IEDINBUR6  10.2   0.0         0.0      67.0   6.9   \n",
      "2 2015-01-01 00:11:00  IEDINBUR6  10.2   0.0         0.0      67.0   7.2   \n",
      "3 2015-01-01 00:16:00  IEDINBUR6  10.2   0.0         0.0      67.0   7.9   \n",
      "4 2015-01-01 00:21:00  IEDINBUR6  10.2   0.0         0.0      68.0   4.3   \n",
      "\n",
      "          day time_of_day  day_of_week  hour_of_day  month  working_day  \\\n",
      "0  2015-01-01    00:00:00            3            0      1         True   \n",
      "1  2015-01-01    00:06:00            3            0      1         True   \n",
      "2  2015-01-01    00:11:00            3            0      1         True   \n",
      "3  2015-01-01    00:16:00            3            0      1         True   \n",
      "4  2015-01-01    00:21:00            3            0      1         True   \n",
      "\n",
      "   morning  evening  raining  wet_cycle  \n",
      "0    False    False    False      False  \n",
      "1    False    False    False      False  \n",
      "2    False    False    False      False  \n",
      "3    False    False    False      False  \n",
      "4    False    False    False      False  \n",
      "            day   rain             total_rain wet_cycle\n",
      "                  rain rain_amount total_rain wet_cycle\n",
      "0    2015-01-01   True        52.2        4.6      True\n",
      "1    2015-01-02   True        52.0        4.8     False\n",
      "2    2015-01-03  False         0.0        0.0     False\n",
      "3    2015-01-04  False         0.0        0.0     False\n",
      "4    2015-01-05  False         0.0        0.0     False\n",
      "5    2015-01-06   True        21.6        1.8      True\n",
      "6    2015-01-07   True        53.9        5.1      True\n",
      "7    2015-01-08   True        89.5        7.6     False\n",
      "8    2015-01-09   True        41.2        3.3      True\n",
      "9    2015-01-10   True        72.0        6.1     False\n",
      "10   2015-01-11   True        61.2        5.1     False\n",
      "11   2015-01-12   True        66.3        5.1      True\n",
      "12   2015-01-13   True        21.5        1.8     False\n",
      "13   2015-01-14   True        10.8        1.0     False\n",
      "14   2015-01-15   True        18.0        1.5     False\n",
      "15   2015-01-16  False         0.0        0.0     False\n",
      "16   2015-01-17  False         0.0        0.0     False\n",
      "17   2015-01-18   True         3.6        0.3     False\n",
      "18   2015-01-19  False         0.0        0.0     False\n",
      "19   2015-01-20  False         0.0        0.0     False\n",
      "20   2015-01-21  False         0.0        0.0     False\n",
      "21   2015-01-22   True         7.2        0.5     False\n",
      "22   2015-01-23   True        25.2        2.3      True\n",
      "23   2015-01-24  False         0.0        0.0     False\n",
      "24   2015-01-25   True         5.4        0.5     False\n",
      "25   2015-01-26  False         0.0        0.0     False\n",
      "26   2015-01-27  False         0.0        0.0     False\n",
      "27   2015-01-28   True        41.3        3.6     False\n",
      "28   2015-01-29   True         3.6        0.3     False\n",
      "29   2015-01-30  False         0.0        0.0     False\n",
      "..          ...    ...         ...        ...       ...\n",
      "334  2015-12-01   True        77.4        6.9      True\n",
      "335  2015-12-02   True        19.8        1.8      True\n",
      "336  2015-12-03   True       275.1       23.9      True\n",
      "337  2015-12-04   True        37.8        3.3      True\n",
      "338  2015-12-05   True        93.8        8.1     False\n",
      "339  2015-12-06   True       118.1       10.2     False\n",
      "340  2015-12-07   True        14.4        1.3     False\n",
      "341  2015-12-08   True        14.4        1.3      True\n",
      "342  2015-12-09   True        79.1        6.9      True\n",
      "343  2015-12-10   True        61.0        5.1     False\n",
      "344  2015-12-11   True        28.7        2.3     False\n",
      "345  2015-12-12   True        12.6        1.3     False\n",
      "346  2015-12-13   True        10.8        1.0     False\n",
      "347  2015-12-14   True        18.0        1.5     False\n",
      "348  2015-12-15   True        18.0        1.5     False\n",
      "349  2015-12-16  False         0.0        0.0     False\n",
      "350  2015-12-17  False         0.0        0.0     False\n",
      "351  2015-12-18  False         0.0        0.0     False\n",
      "352  2015-12-19  False         0.0        0.0     False\n",
      "353  2015-12-20   True         7.2        4.6     False\n",
      "354  2015-12-21   True        14.4        1.5     False\n",
      "355  2015-12-22   True        41.3        3.6      True\n",
      "356  2015-12-23   True        36.0        3.3     False\n",
      "357  2015-12-24   True       135.7       12.7     False\n",
      "358  2015-12-25   True        46.8        4.6      True\n",
      "359  2015-12-26   True       438.8       38.6     False\n",
      "360  2015-12-27  False         0.0        0.0     False\n",
      "361  2015-12-28  False         0.0        0.0     False\n",
      "362  2015-12-29  False         0.0        0.0     False\n",
      "363  2015-12-30   True        36.0        3.0      True\n",
      "\n",
      "[364 rows x 5 columns]\n"
     ]
    },
    {
     "name": "stderr",
     "output_type": "stream",
     "text": [
      "C:\\Users\\parul\\Anaconda3\\lib\\site-packages\\pandas\\core\\groupby\\groupby.py:4658: FutureWarning: using a dict with renaming is deprecated and will be removed in a future version\n",
      "  return super(DataFrameGroupBy, self).aggregate(arg, *args, **kwargs)\n"
     ]
    }
   ],
   "source": [
    "# View the original DataFrame\n",
    "print(df_new.head())\n",
    "\n",
    "# Use aggregator pipeline syntax [Similar to that of MongoDB]\n",
    "df_rainyDays = df_new.groupby('day').agg({\n",
    "                                            'rain': {'rain':lambda x: (x > 0.0).any(),\n",
    "                                                     'rain_amount':'sum'}, \n",
    "                                            'total_rain':{'total_rain':'max'},\n",
    "                                            'wet_cycle':{'wet_cycle':'any'}\n",
    "                                         })\n",
    "\n",
    "df_rainyDays.reset_index(inplace=True)    # Resets the index back to integer index.\n",
    "print(df_rainyDays)         \n"
   ]
  },
  {
   "cell_type": "code",
   "execution_count": 18,
   "metadata": {
    "collapsed": false
   },
   "outputs": [
    {
     "name": "stdout",
     "output_type": "stream",
     "text": [
      "          day   rain             total_rain wet_cycle\n",
      "                rain rain_amount total_rain wet_cycle\n",
      "0  2015-01-01   True        52.2        4.6      True\n",
      "1  2015-01-02   True        52.0        4.8     False\n",
      "2  2015-01-03  False         0.0        0.0     False\n",
      "3  2015-01-04  False         0.0        0.0     False\n",
      "4  2015-01-05  False         0.0        0.0     False\n"
     ]
    }
   ],
   "source": [
    "# Print the DataFrame\n",
    "print(df_rainyDays.head())                          # We observe that the columns have levels....eliminate it\n"
   ]
  },
  {
   "cell_type": "code",
   "execution_count": 19,
   "metadata": {
    "collapsed": false
   },
   "outputs": [
    {
     "name": "stdout",
     "output_type": "stream",
     "text": [
      "                rain  rain_amount  total_rain  wet_cycle\n",
      "0  2015-01-01   True         52.2         4.6       True\n",
      "1  2015-01-02   True         52.0         4.8      False\n",
      "2  2015-01-03  False          0.0         0.0      False\n",
      "3  2015-01-04  False          0.0         0.0      False\n",
      "4  2015-01-05  False          0.0         0.0      False\n"
     ]
    }
   ],
   "source": [
    "# Drop a level of the columns\n",
    "df_rainyDays.columns = df_rainyDays.columns.droplevel(level=0)\n",
    "print(df_rainyDays.head())\n"
   ]
  },
  {
   "cell_type": "code",
   "execution_count": 20,
   "metadata": {
    "collapsed": false
   },
   "outputs": [
    {
     "name": "stdout",
     "output_type": "stream",
     "text": [
      "<class 'numpy.bool_'>\n",
      "                rain  rain_amount  total_rain  wet_cycle\n",
      "0  2015-01-01   True         52.2         4.6       True\n",
      "1  2015-01-02   True         52.0         4.8      False\n",
      "2  2015-01-03  False          0.0         0.0      False\n",
      "3  2015-01-04  False          0.0         0.0      False\n",
      "4  2015-01-05  False          0.0         0.0      False\n"
     ]
    }
   ],
   "source": [
    "# Check the datatype of the column 'rain'\n",
    "print(type(df_rainyDays.rain[0]))                              # [numpy.bool_]\n",
    "\n",
    "# Incase it isnt a boolean, Convert the datatype to boolean\n",
    "df_rainyDays['rain'] = df_rainyDays['rain'].astype(bool)\n",
    "\n",
    "# Check the datatype again\n",
    "print(df_rainyDays.head())\n"
   ]
  },
  {
   "cell_type": "code",
   "execution_count": 21,
   "metadata": {
    "collapsed": false
   },
   "outputs": [
    {
     "name": "stdout",
     "output_type": "stream",
     "text": [
      "         date   rain  rain_amount  total_rain  wet_cycle\n",
      "0  2015-01-01   True         52.2         4.6       True\n",
      "1  2015-01-02   True         52.0         4.8      False\n",
      "2  2015-01-03  False          0.0         0.0      False\n",
      "3  2015-01-04  False          0.0         0.0      False\n",
      "4  2015-01-05  False          0.0         0.0      False\n"
     ]
    }
   ],
   "source": [
    "# The first column doesnt have a label - Assign it a label say 'date'\n",
    "df_rainyDays.rename(columns={\"\":'date'}, inplace=True)\n",
    "print(df_rainyDays.head())\n"
   ]
  },
  {
   "cell_type": "code",
   "execution_count": 22,
   "metadata": {
    "collapsed": false
   },
   "outputs": [
    {
     "name": "stdout",
     "output_type": "stream",
     "text": [
      "                 date    station  temp  rain  total_rain  humidity  wind  \\\n",
      "0 2015-01-01 00:00:00  IEDINBUR6  10.3   0.0         0.0      67.0   9.0   \n",
      "1 2015-01-01 00:06:00  IEDINBUR6  10.2   0.0         0.0      67.0   6.9   \n",
      "2 2015-01-01 00:11:00  IEDINBUR6  10.2   0.0         0.0      67.0   7.2   \n",
      "3 2015-01-01 00:16:00  IEDINBUR6  10.2   0.0         0.0      67.0   7.9   \n",
      "4 2015-01-01 00:21:00  IEDINBUR6  10.2   0.0         0.0      68.0   4.3   \n",
      "\n",
      "          day time_of_day  day_of_week  hour_of_day  month  working_day  \\\n",
      "0  2015-01-01    00:00:00            3            0      1         True   \n",
      "1  2015-01-01    00:06:00            3            0      1         True   \n",
      "2  2015-01-01    00:11:00            3            0      1         True   \n",
      "3  2015-01-01    00:16:00            3            0      1         True   \n",
      "4  2015-01-01    00:21:00            3            0      1         True   \n",
      "\n",
      "   morning  evening  raining  wet_cycle  \n",
      "0    False    False    False      False  \n",
      "1    False    False    False      False  \n",
      "2    False    False    False      False  \n",
      "3    False    False    False      False  \n",
      "4    False    False    False      False  \n",
      "\n",
      "\n",
      "\n",
      "\n",
      " day         hour_of_day\n",
      "2015-01-01  0              False\n",
      "            1              False\n",
      "            2              False\n",
      "            3              False\n",
      "            4              False\n",
      "Name: raining, dtype: bool\n"
     ]
    }
   ],
   "source": [
    "# Further equip this DataFrame with the actual number of Hours/day it rained. \n",
    "# Print the original DatFrame\n",
    "print(df_new.head())\n",
    "\n",
    "temp = df_new.groupby(['day', 'hour_of_day'])['raining'].any()\n",
    "print(\"\\n\\n\\n\\n\", temp.head())"
   ]
  },
  {
   "cell_type": "code",
   "execution_count": 23,
   "metadata": {
    "collapsed": false
   },
   "outputs": [
    {
     "name": "stdout",
     "output_type": "stream",
     "text": [
      "          day  raining\n",
      "0  2015-01-01     10.0\n",
      "1  2015-01-02      8.0\n",
      "2  2015-01-03      0.0\n",
      "3  2015-01-04      0.0\n",
      "4  2015-01-05      0.0\n",
      "          day  hours_raining\n",
      "0  2015-01-01           10.0\n",
      "1  2015-01-02            8.0\n",
      "2  2015-01-03            0.0\n",
      "3  2015-01-04            0.0\n",
      "4  2015-01-05            0.0\n"
     ]
    }
   ],
   "source": [
    "# Further refine this Series 'temp' to calculate the total number of hours it rained on the particular day\n",
    "temp = temp.groupby(level=[0]).sum().reset_index() \n",
    "print(temp.head())\n",
    "\n",
    "# Rename the columns\n",
    "temp.rename(columns={'raining':'hours_raining'}, inplace=True)\n",
    "print(temp.head())\n"
   ]
  },
  {
   "cell_type": "code",
   "execution_count": 24,
   "metadata": {
    "collapsed": false
   },
   "outputs": [
    {
     "name": "stdout",
     "output_type": "stream",
     "text": [
      "         date   rain  rain_amount  total_rain  wet_cycle         day  \\\n",
      "0  2015-01-01   True         52.2         4.6       True  2015-01-01   \n",
      "1  2015-01-02   True         52.0         4.8      False  2015-01-02   \n",
      "2  2015-01-03  False          0.0         0.0      False  2015-01-03   \n",
      "3  2015-01-04  False          0.0         0.0      False  2015-01-04   \n",
      "4  2015-01-05  False          0.0         0.0      False  2015-01-05   \n",
      "\n",
      "   hours_raining  \n",
      "0           10.0  \n",
      "1            8.0  \n",
      "2            0.0  \n",
      "3            0.0  \n",
      "4            0.0  \n"
     ]
    }
   ],
   "source": [
    "# Merge the 2 dataframes viz...temp and df_rainyDays on the common column 'date' in df_rainyDays\n",
    "df_rainyDays = df_rainyDays.merge(temp, left_on='date', right_on='day', how='left')\n",
    "print(df_rainyDays.head())\n"
   ]
  },
  {
   "cell_type": "code",
   "execution_count": 25,
   "metadata": {
    "collapsed": false
   },
   "outputs": [
    {
     "name": "stdout",
     "output_type": "stream",
     "text": [
      "         date   rain  rain_amount  total_rain  wet_cycle  hours_raining\n",
      "0  2015-01-01   True         52.2         4.6       True           10.0\n",
      "1  2015-01-02   True         52.0         4.8      False            8.0\n",
      "2  2015-01-03  False          0.0         0.0      False            0.0\n",
      "3  2015-01-04  False          0.0         0.0      False            0.0\n",
      "4  2015-01-05  False          0.0         0.0      False            0.0\n"
     ]
    }
   ],
   "source": [
    "# observe that the columns 'date' and 'day' are redundant. Eliminate this\n",
    "df_rainyDays.drop('day', axis=1, inplace=True)\n",
    "print(df_rainyDays.head())\n"
   ]
  },
  {
   "cell_type": "markdown",
   "metadata": {},
   "source": [
    "# Conclusion:"
   ]
  },
  {
   "cell_type": "code",
   "execution_count": 26,
   "metadata": {
    "collapsed": false
   },
   "outputs": [
    {
     "name": "stdout",
     "output_type": "stream",
     "text": [
      "In the year 2015, there were 194 rainy days of 364 at Edinburgh\n",
      "\n",
      "It was wet while cycling 44 working days of 260 at Edinburgh\n",
      "\n",
      "You get wet cycling 16.923076923076923 % of the time!!\n"
     ]
    }
   ],
   "source": [
    "# Print Summary Stats\n",
    "print(\"In the year 2015, there were {} rainy days of {} at {}\".format(df_rainyDays['rain'].sum(), len(df_rainyDays), \"Edinburgh\"))\n",
    "\n",
    "print(\"\\nIt was wet while cycling {} working days of {} at {}\".format(df_wetCycling['wet_cycle'].sum(), \n",
    "                                                                      len(df_wetCycling), \"Edinburgh\"))\n",
    "\n",
    "print(\"\\nYou get wet cycling {} % of the time!!\".format((100/len(df_wetCycling)) * df_wetCycling['wet_cycle'].sum()))"
   ]
  },
  {
   "cell_type": "markdown",
   "metadata": {},
   "source": [
    "# Visualization using Pandas and Seaborn\n",
    "## seaborn is a high level visualization library that is a level above matplotlib"
   ]
  },
  {
   "cell_type": "code",
   "execution_count": 27,
   "metadata": {
    "collapsed": false
   },
   "outputs": [
    {
     "name": "stdout",
     "output_type": "stream",
     "text": [
      "   month rainy  days month_name\n",
      "0      1   dry    16        Jan\n",
      "1      1   wet     6        Jan\n",
      "2      2   dry    19        Feb\n",
      "3      2   wet     1        Feb\n",
      "4      3   dry    18        Mar\n"
     ]
    },
    {
     "data": {
      "image/png": "[encoded data removed]",
      "text/plain": [
       "<Figure size 1080x720 with 1 Axes>"
      ]
     },
     "metadata": {},
     "output_type": "display_data"
    }
   ],
   "source": [
    "# Barchart of monthly summarized rainfall data contained in the DataFrame: df_monthWise_wetCycling\n",
    "print(df_monthWise_wetCycling.head())     # Source of data\n",
    "\n",
    "import matplotlib.pyplot as plt\n",
    "import seaborn as sns\n",
    "%matplotlib inline\n",
    "\n",
    "plt.figure(figsize=(15,10))\n",
    "sns.set_style('whitegrid')\n",
    "sns.set_context('notebook', font_scale=1)\n",
    "\n",
    "sns.barplot(x='month_name', \n",
    "            y='days', \n",
    "            hue='rainy',                                                                 # ASK!\n",
    "            data=df_monthWise_wetCycling.sort_values(['month', 'rainy']))\n",
    "\n",
    "plt.xlabel('Month')\n",
    "plt.ylabel('Number of Days')\n",
    "plt.title('Wet or Dry commuting in Edinburgh')\n",
    "plt.show()\n"
   ]
  },
  {
   "cell_type": "markdown",
   "metadata": {},
   "source": [
    "## Inference: The above graph represents the number of monthly days cyclist have to face rains during office commute hours in Eidenburgh. "
   ]
  },
  {
   "cell_type": "markdown",
   "metadata": {},
   "source": [
    "# Heatmaps for Rainfall and Rainy hours of the day\n",
    "### Heatmaps are easily drawn using 'calmap' python library. We need to explicitly install it in Anaconda, using the command:- 'pip install calmap'. Its used to plot Pandas time series data sampled by day in a heatmap per calendar year, similar to GitHub’s contributions plot, using matplotlib.\n",
    "\n",
    "### this package will not be installed via 'conda install calmap' or via conda-forge.\n",
    "\n",
    "### The version we installed is calmap-0.0.7\n"
   ]
  },
  {
   "cell_type": "code",
   "execution_count": 28,
   "metadata": {
    "collapsed": false
   },
   "outputs": [
    {
     "name": "stdout",
     "output_type": "stream",
     "text": [
      "         date   rain  rain_amount  total_rain  wet_cycle  hours_raining\n",
      "0  2015-01-01   True         52.2         4.6       True           10.0\n",
      "1  2015-01-02   True         52.0         4.8      False            8.0\n",
      "2  2015-01-03  False          0.0         0.0      False            0.0\n",
      "3  2015-01-04  False          0.0         0.0      False            0.0\n",
      "4  2015-01-05  False          0.0         0.0      False            0.0\n"
     ]
    }
   ],
   "source": [
    "import calmap\n",
    "# We will use the df_rainyDays as the data source\n",
    "print(df_rainyDays.head())\n",
    "\n",
    "# Observe that the index here is the default integer value"
   ]
  },
  {
   "cell_type": "code",
   "execution_count": 29,
   "metadata": {
    "collapsed": false
   },
   "outputs": [
    {
     "name": "stdout",
     "output_type": "stream",
     "text": [
      "1756579461832\n",
      "1756477320440\n",
      "1756477050384\n",
      "1756477050384\n",
      "             rain  rain_amount  total_rain  wet_cycle  hours_raining\n",
      "date                                                                \n",
      "2015-01-01   True         52.2         4.6       True           10.0\n",
      "2015-01-02   True         52.0         4.8      False            8.0\n",
      "2015-01-03  False          0.0         0.0      False            0.0\n",
      "2015-01-04  False          0.0         0.0      False            0.0\n",
      "2015-01-05  False          0.0         0.0      False            0.0\n",
      "DatetimeIndex(['2015-01-01', '2015-01-02', '2015-01-03', '2015-01-04',\n",
      "               '2015-01-05', '2015-01-06', '2015-01-07', '2015-01-08',\n",
      "               '2015-01-09', '2015-01-10',\n",
      "               ...\n",
      "               '2015-12-21', '2015-12-22', '2015-12-23', '2015-12-24',\n",
      "               '2015-12-25', '2015-12-26', '2015-12-27', '2015-12-28',\n",
      "               '2015-12-29', '2015-12-30'],\n",
      "              dtype='datetime64[ns]', name='date', length=364, freq=None)\n"
     ]
    }
   ],
   "source": [
    "# Create a temp copy and change the index such that it has the DatetimeIndex on 'date' column. \n",
    "#temp = df_rainyDays.copy().set_index(pd.DatetimeIndex(df_rainyDays['date']))\n",
    "temp = df_rainyDays.copy()                # Shallow Copy\n",
    "print(id(temp))                           # 2477616726816\n",
    "print(id(df_rainyDays))                   # 2477547155408...They are different.\n",
    "\n",
    "print(id(temp.date[0]))                   # 2477510147696\n",
    "print(id(df_rainyDays.date[0]))           # 2477510147696....They are the same...hence Shallow Copy \n",
    "\n",
    "temp.set_index('date', inplace=True)      # The Type of index is [object]\n",
    "temp.index = pd.to_datetime(temp.index)   # This step is needed to convert the [object] index to [DatetimeIndex]\n",
    "print(temp.head())                        # Now our data is coverted into a time series.  \n",
    "print(temp.index)\n",
    "                                     \n",
    "# Observe that the index has been set to the 'date' field. "
   ]
  },
  {
   "cell_type": "code",
   "execution_count": 30,
   "metadata": {
    "collapsed": false
   },
   "outputs": [
    {
     "data": {
      "text/plain": [
       "Text(0.5,1,'Hours Raining')"
      ]
     },
     "execution_count": 30,
     "metadata": {},
     "output_type": "execute_result"
    },
    {
     "data": {
      "image/png": "[encoded data removed]",
      "text/plain": [
       "<Figure size 1080x360 with 1 Axes>"
      ]
     },
     "metadata": {},
     "output_type": "display_data"
    }
   ],
   "source": [
    "# lets plot the heatmap i.e. Plot a timeseries as a calendar heatmap.\n",
    "fig, ax = calmap.calendarplot(temp['hours_raining'], fig_kws={\"figsize\":(15,5)})\n",
    "plt.title(\"Hours Raining\")\n"
   ]
  },
  {
   "cell_type": "code",
   "execution_count": 31,
   "metadata": {
    "collapsed": false
   },
   "outputs": [
    {
     "data": {
      "text/plain": [
       "Text(0.5,1,'Total Rainfall Daily')"
      ]
     },
     "execution_count": 31,
     "metadata": {},
     "output_type": "execute_result"
    },
    {
     "data": {
      "image/png": "[encoded data removed]",
      "text/plain": [
       "<Figure size 1080x360 with 1 Axes>"
      ]
     },
     "metadata": {},
     "output_type": "display_data"
    }
   ],
   "source": [
    "\n",
    "fig, ax = calmap.calendarplot(temp['total_rain'], fig_kws={\"figsize\":(15,5)})\n",
    "plt.title(\"Total Rainfall Daily\")\n",
    "\n",
    "# NOTE: \n",
    "# If the data points have outliers, they will skew your color mapping considerably. Thus we should eliminate the outliers for \n",
    "# better visualization of the heatmap. "
   ]
  },
  {
   "cell_type": "markdown",
   "metadata": {},
   "source": [
    "# Quick pandas exploratory line plots"
   ]
  },
  {
   "cell_type": "code",
   "execution_count": 32,
   "metadata": {
    "collapsed": false
   },
   "outputs": [
    {
     "name": "stdout",
     "output_type": "stream",
     "text": [
      "             rain  rain_amount  total_rain  wet_cycle  hours_raining\n",
      "date                                                                \n",
      "2015-01-01   True         52.2         4.6       True           10.0\n",
      "2015-01-02   True         52.0         4.8      False            8.0\n",
      "2015-01-03  False          0.0         0.0      False            0.0\n",
      "2015-01-04  False          0.0         0.0      False            0.0\n",
      "2015-01-05  False          0.0         0.0      False            0.0\n"
     ]
    },
    {
     "data": {
      "text/plain": [
       "<matplotlib.axes._subplots.AxesSubplot at 0x198fc77db70>"
      ]
     },
     "execution_count": 32,
     "metadata": {},
     "output_type": "execute_result"
    },
    {
     "data": {
      "image/png": "[encoded data removed]",
      "text/plain": [
       "<Figure size 432x288 with 1 Axes>"
      ]
     },
     "metadata": {},
     "output_type": "display_data"
    }
   ],
   "source": [
    "print(temp.head())\n",
    "temp[['wet_cycle', 'total_rain', 'hours_raining']].plot()\n"
   ]
  },
  {
   "cell_type": "markdown",
   "metadata": {},
   "source": [
    "### Reference: https://www.shanelynn.ie/analysis-of-weather-data-using-pandas-python-and-seaborn/"
   ]
  }
 ],
 "metadata": {
  "kernelspec": {
   "display_name": "Python 3",
   "language": "python",
   "name": "python3"
  },
  "language_info": {
   "codemirror_mode": {
    "name": "ipython",
    "version": 3
   },
   "file_extension": ".py",
   "mimetype": "text/x-python",
   "name": "python",
   "nbconvert_exporter": "python",
   "pygments_lexer": "ipython3",
   "version": "3.6.7"
  }
 },
 "nbformat": 4,
 "nbformat_minor": 2
}
