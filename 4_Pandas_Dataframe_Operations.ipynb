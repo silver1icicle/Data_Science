{
 "cells": [
  {
   "cell_type": "markdown",
   "metadata": {},
   "source": [
    "# __DataFrame__\n",
    "## A Pandas DataFrame is a 2D data structure, in which the data is alligned in tabular fashion in rows and columns. \n",
    "\n",
    "##  Characteristics:\n",
    "### > Columns within the DataFrame can be of different types. \n",
    "### > Axes (rows and columns) are labelled. \n",
    "### > A pandas DataFrame can be created using various inputs like - \n",
    "###                                                                        Lists, dict, series, Numpy ndarrays, another dataframe. \n"
   ]
  },
  {
   "cell_type": "markdown",
   "metadata": {},
   "source": [
    "# *Creating an empty DataFrame*"
   ]
  },
  {
   "cell_type": "code",
   "execution_count": 2,
   "metadata": {
    "collapsed": false
   },
   "outputs": [
    {
     "name": "stdout",
     "output_type": "stream",
     "text": [
      "Empty DataFrame\n",
      "Columns: []\n",
      "Index: []\n"
     ]
    }
   ],
   "source": [
    "import pandas as pd\n",
    "df = pd.DataFrame()\n",
    "print(df)"
   ]
  },
  {
   "cell_type": "markdown",
   "metadata": {},
   "source": [
    "# * Creating DataFrame from Lists*"
   ]
  },
  {
   "cell_type": "code",
   "execution_count": 5,
   "metadata": {
    "collapsed": false
   },
   "outputs": [
    {
     "name": "stdout",
     "output_type": "stream",
     "text": [
      "    0\n",
      "0  10\n",
      "1  20\n",
      "2  30\n",
      "3  40\n",
      "4  50\n",
      "5  60\n",
      "6  70\n",
      "7  80\n"
     ]
    }
   ],
   "source": [
    "import pandas as pd\n",
    "listData = [10, 20, 30, 40, 50, 60, 70, 80]\n",
    "df = pd.DataFrame(listData)\n",
    "print(df)"
   ]
  },
  {
   "cell_type": "markdown",
   "metadata": {},
   "source": [
    "# *Creating DataFrame from Nested Lists*"
   ]
  },
  {
   "cell_type": "code",
   "execution_count": 10,
   "metadata": {
    "collapsed": false
   },
   "outputs": [
    {
     "name": "stdout",
     "output_type": "stream",
     "text": [
      "  Student_Name  Student_Age\n",
      "0         Alex           10\n",
      "1          Bob           12\n",
      "2         Mark           11\n",
      "3         Tina           10\n",
      "  Student_Name  Student_Age\n",
      "0         Alex         10.0\n",
      "1          Bob         12.0\n",
      "2         Mark         11.0\n",
      "3         Tina         10.0\n"
     ]
    }
   ],
   "source": [
    "import pandas as pd\n",
    "listData = [['Alex', 10],['Bob', 12],['Mark', 11],['Tina',10]]\n",
    "df = pd.DataFrame(data = listData, columns=['Student_Name', 'Student_Age'])\n",
    "print(df)\n",
    "\n",
    "\n",
    "# Specify the column type\n",
    "df = pd.DataFrame(data = listData, columns = ['Student_Name', 'Student_Age'], dtype=float)\n",
    "print(df)"
   ]
  },
  {
   "cell_type": "markdown",
   "metadata": {},
   "source": [
    "# * Creating DataFrames from dict of ndarrays/ lists*"
   ]
  },
  {
   "cell_type": "code",
   "execution_count": 19,
   "metadata": {
    "collapsed": false
   },
   "outputs": [
    {
     "name": "stdout",
     "output_type": "stream",
     "text": [
      "    Name  Age\n",
      "0    Tom   25\n",
      "1   Jack   22\n",
      "2  Steve   28\n",
      "3    Ria   20\n",
      "4  Sally   22\n",
      "        Name  Age\n",
      "rank1    Tom   25\n",
      "rank2   Jack   22\n",
      "rank3  Steve   28\n",
      "rank4    Ria   20\n",
      "rank5  Sally   22\n"
     ]
    }
   ],
   "source": [
    "import pandas as pd\n",
    "dictData = {'Name': ['Tom','Jack', 'Steve', 'Ria', 'Sally'], 'Age':[25, 22, 28, 20, 22]}\n",
    "df = pd.DataFrame(dictData)\n",
    "print(df)   # Observe that the rows have the default index assigned as 0/1/2/3/4\n",
    "\n",
    "# Lets assign custom indices to the rows. \n",
    "dictData = {'Name': ['Tom','Jack', 'Steve', 'Ria', 'Sally'], 'Age':[25, 22, 28, 20, 22]}\n",
    "df = pd.DataFrame(dictData, index=['rank1', 'rank2', 'rank3', 'rank4', 'rank5'])\n",
    "print(df)\n"
   ]
  },
  {
   "cell_type": "markdown",
   "metadata": {},
   "source": [
    "# *Create DataFrame from List of Dicts*"
   ]
  },
  {
   "cell_type": "code",
   "execution_count": 23,
   "metadata": {
    "collapsed": false
   },
   "outputs": [
    {
     "name": "stdout",
     "output_type": "stream",
     "text": [
      "          Age    City    Name\n",
      "Intern_1   26     NaN     Tom\n",
      "Intern_2   22  Boston  Alicia\n"
     ]
    }
   ],
   "source": [
    "import pandas as pd\n",
    "dataListDict = [{'Name':'Tom', 'Age': 26}, {'Name':'Alicia', 'Age': 22, 'City': 'Boston'}]\n",
    "df = pd.DataFrame(dataListDict, index=['Intern_1', 'Intern_2'])\n",
    "print(df)\n"
   ]
  },
  {
   "cell_type": "markdown",
   "metadata": {},
   "source": [
    "# *Create a DataFrame from Dict of Series*"
   ]
  },
  {
   "cell_type": "code",
   "execution_count": 27,
   "metadata": {
    "collapsed": false
   },
   "outputs": [
    {
     "name": "stdout",
     "output_type": "stream",
     "text": [
      "          Emp1     Emp2\n",
      "EmpCity    NaN   Mumbai\n",
      "EmpID     1001     1002\n",
      "EmpName  Ameya  Anjanay\n",
      "EmpSal   10000  12000.7\n"
     ]
    }
   ],
   "source": [
    "import pandas as pd\n",
    "dataDictSeries = {'Emp1':pd.Series([1001, 'Ameya', 10000], index = ['EmpID', 'EmpName', 'EmpSal']),\n",
    "                  'Emp2':pd.Series([1002, 'Anjanay', 12000.66, 'Mumbai'], index = ['EmpID', 'EmpName', 'EmpSal', 'EmpCity'])\n",
    "                 }\n",
    "\n",
    "df = pd.DataFrame(dataDictSeries)\n",
    "print(df)        # Observe that the missing values are substituted with NaN. \n"
   ]
  },
  {
   "cell_type": "markdown",
   "metadata": {},
   "source": [
    "# *Adding a new column to the DataFrame*"
   ]
  },
  {
   "cell_type": "code",
   "execution_count": 38,
   "metadata": {
    "collapsed": false
   },
   "outputs": [
    {
     "name": "stdout",
     "output_type": "stream",
     "text": [
      "          Emp1     Emp2     Emp3\n",
      "EmpCity    NaN   Mumbai    Delhi\n",
      "EmpID     1001     1002     1003\n",
      "EmpName  Ameya  Anjanay  Ambikay\n",
      "EmpSal   10000  12000.7  15000.5\n",
      "          Emp1     Emp2     Emp3          Emp4\n",
      "EmpCity    NaN   Mumbai    Delhi           NaN\n",
      "EmpID     1001     1002     1003          2004\n",
      "EmpName  Ameya  Anjanay  Ambikay  AmeyaAmbikay\n",
      "EmpSal   10000  12000.7  15000.5       25000.5\n"
     ]
    }
   ],
   "source": [
    "import pandas as pd\n",
    "dataDictSeries = {'Emp1':pd.Series([1001, 'Ameya', 10000], index = ['EmpID', 'EmpName', 'EmpSal']),\n",
    "                  'Emp2':pd.Series([1002, 'Anjanay', 12000.66, 'Mumbai'], index = ['EmpID', 'EmpName', 'EmpSal', 'EmpCity'])\n",
    "                 }\n",
    "\n",
    "df = pd.DataFrame(dataDictSeries)\n",
    "\n",
    "\n",
    "# Add a new column\n",
    "df['Emp3'] = pd.Series([1003, 'Ambikay', 15000.55, 'Delhi'], index = ['EmpID', 'EmpName', 'EmpSal', 'EmpCity'])\n",
    "\n",
    "# Print the data frame\n",
    "print(df)        # Observe that the missing values are substituted with NaN. \n",
    "\n",
    "\n",
    "# Add a new column using existing columns in the DataFrame\n",
    "df['Emp4'] = df['Emp1'] + df['Emp3']           # Respective entires get added or concatenated.\n",
    "print(df)\n",
    "\n"
   ]
  },
  {
   "cell_type": "markdown",
   "metadata": {},
   "source": [
    "# *Column Deletion in the DataFrame*"
   ]
  },
  {
   "cell_type": "code",
   "execution_count": 39,
   "metadata": {
    "collapsed": false
   },
   "outputs": [
    {
     "name": "stdout",
     "output_type": "stream",
     "text": [
      "          Emp1     Emp2     Emp3          Emp4\n",
      "EmpCity    NaN   Mumbai    Delhi           NaN\n",
      "EmpID     1001     1002     1003          2004\n",
      "EmpName  Ameya  Anjanay  Ambikay  AmeyaAmbikay\n",
      "EmpSal   10000  12000.7  15000.5       25000.5\n",
      "          Emp1     Emp2     Emp3\n",
      "EmpCity    NaN   Mumbai    Delhi\n",
      "EmpID     1001     1002     1003\n",
      "EmpName  Ameya  Anjanay  Ambikay\n",
      "EmpSal   10000  12000.7  15000.5\n",
      "          Emp1     Emp2\n",
      "EmpCity    NaN   Mumbai\n",
      "EmpID     1001     1002\n",
      "EmpName  Ameya  Anjanay\n",
      "EmpSal   10000  12000.7\n"
     ]
    }
   ],
   "source": [
    "print(df)\n",
    "# Lets delete the 'Emp4' column\n",
    "# Method [1] - using del()\n",
    "del df['Emp4']\n",
    "print(df)\n",
    "\n",
    "# Method [2] - using pop()\n",
    "df.pop('Emp3')\n",
    "print(df)"
   ]
  },
  {
   "cell_type": "markdown",
   "metadata": {},
   "source": [
    "# *Specific Row Selection *"
   ]
  },
  {
   "cell_type": "code",
   "execution_count": 45,
   "metadata": {
    "collapsed": false
   },
   "outputs": [
    {
     "name": "stdout",
     "output_type": "stream",
     "text": [
      "          Emp1     Emp2\n",
      "EmpCity    NaN   Mumbai\n",
      "EmpID     1001     1002\n",
      "EmpName  Ameya  Anjanay\n",
      "EmpSal   10000  12000.7\n",
      "+-+-+-+-+-+-+-+-+-+-+-+-+-+-+-+-+-+-+-+-+-+-+-+-+-+-+-\n",
      "Emp1      Ameya\n",
      "Emp2    Anjanay\n",
      "Name: EmpName, dtype: object\n",
      "+-+-+-+-+-+-+-+-+-+-+-+-+-+-+-+-+-+-+-+-+-+-+-+-+-+-+-\n",
      "Emp1      Ameya\n",
      "Emp2    Anjanay\n",
      "Name: EmpName, dtype: object\n"
     ]
    }
   ],
   "source": [
    "import pandas as pd\n",
    "dataDictSeries = {'Emp1':pd.Series([1001, 'Ameya', 10000], index = ['EmpID', 'EmpName', 'EmpSal']),\n",
    "                  'Emp2':pd.Series([1002, 'Anjanay', 12000.66, 'Mumbai'], index = ['EmpID', 'EmpName', 'EmpSal', 'EmpCity'])\n",
    "                 }\n",
    "\n",
    "df = pd.DataFrame(dataDictSeries)\n",
    "\n",
    "# Print the entire DataFrame\n",
    "print(df)\n",
    "\n",
    "print(\"+-+-+-+-+-+-+-+-+-+-+-+-+-+-+-+-+-+-+-+-+-+-+-+-+-+-+-\")\n",
    "# Print the specific row in the DataFrame - Selection by label name\n",
    "print(df.loc['EmpName'])\n",
    "\n",
    "print(\"+-+-+-+-+-+-+-+-+-+-+-+-+-+-+-+-+-+-+-+-+-+-+-+-+-+-+-\")\n",
    "# Print the specific row in the DataFrame - Selection by integer index\n",
    "print(df.iloc[2])\n"
   ]
  },
  {
   "cell_type": "markdown",
   "metadata": {},
   "source": [
    "# * Slice Rows*\n",
    "## Multiple rows can be selected using the \":\" operator. "
   ]
  },
  {
   "cell_type": "code",
   "execution_count": 48,
   "metadata": {
    "collapsed": false
   },
   "outputs": [
    {
     "name": "stdout",
     "output_type": "stream",
     "text": [
      "          Emp1     Emp2\n",
      "EmpName  Ameya  Anjanay\n",
      "EmpSal   10000  12000.7\n"
     ]
    }
   ],
   "source": [
    "import pandas as pd\n",
    "dataDictSeries = {'Emp1':pd.Series([1001, 'Ameya', 10000], index = ['EmpID', 'EmpName', 'EmpSal']),\n",
    "                  'Emp2':pd.Series([1002, 'Anjanay', 12000.66, 'Mumbai'], index = ['EmpID', 'EmpName', 'EmpSal', 'EmpCity'])\n",
    "                 }\n",
    "\n",
    "df = pd.DataFrame(dataDictSeries)    \n",
    "print(df[2:4])   # Slice operation, last index not included"
   ]
  },
  {
   "cell_type": "markdown",
   "metadata": {},
   "source": [
    "# *Addition of new rows to the DataFrame*"
   ]
  },
  {
   "cell_type": "code",
   "execution_count": 60,
   "metadata": {
    "collapsed": false
   },
   "outputs": [
    {
     "name": "stdout",
     "output_type": "stream",
     "text": [
      "    EmpID  EmpName    EmpSal\n",
      "E1   1001    Ameya  10000.00\n",
      "E2   1002  Anjanay  12000.66\n",
      "E3   1003  Ambikay  15550.50\n"
     ]
    }
   ],
   "source": [
    "import pandas as pd\n",
    "df1 = pd.DataFrame([[1001, 'Ameya', 10000], [1002, 'Anjanay', 12000.66]], columns = ['EmpID', 'EmpName', 'EmpSal'], index=['E1', 'E2'])\n",
    "df2 = pd.DataFrame([[1003, 'Ambikay', 15550.50]], columns=['EmpID', 'EmpName', 'EmpSal'], index=['E3'])\n",
    "\n",
    "df1 = df1.append(df2)     # Append the record in the end\n",
    "print(df1)\n"
   ]
  }
 ],
 "metadata": {
  "kernelspec": {
   "display_name": "Python 3",
   "language": "python",
   "name": "python3"
  },
  "language_info": {
   "codemirror_mode": {
    "name": "ipython",
    "version": 3
   },
   "file_extension": ".py",
   "mimetype": "text/x-python",
   "name": "python",
   "nbconvert_exporter": "python",
   "pygments_lexer": "ipython3",
   "version": "3.6.7"
  }
 },
 "nbformat": 4,
 "nbformat_minor": 2
}
