{
 "cells": [
  {
   "cell_type": "markdown",
   "metadata": {},
   "source": [
    "# Outliers:\n",
    "### Outliers are the extreme values that deviate from other observations. Outliers are of 2 types:\n",
    "1. Univariate    [Outliers in single feature space]\n",
    "2. Multivariate  [Outliers found in n-dimensional space i.e. n features]\n"
   ]
  },
  {
   "cell_type": "markdown",
   "metadata": {
    "collapsed": true
   },
   "source": [
    "# Load the libraries"
   ]
  },
  {
   "cell_type": "code",
   "execution_count": 3,
   "metadata": {
    "collapsed": true
   },
   "outputs": [],
   "source": [
    "import numpy as np\n",
    "from sklearn.covariance import EllipticEnvelope\n",
    "from sklearn.datasets import make_blobs\n"
   ]
  },
  {
   "cell_type": "markdown",
   "metadata": {},
   "source": [
    "# Create data"
   ]
  },
  {
   "cell_type": "code",
   "execution_count": 15,
   "metadata": {
    "collapsed": false
   },
   "outputs": [],
   "source": [
    "X,Y = make_blobs(n_samples = 10,                   # Generates isotropic Gaussian blobs for clustering.  \n",
    "                 n_features = 2,                   # Number of features for each sample\n",
    "                 centers = 1,                      # Number of centres to generate \n",
    "                 random_state = 1)                 # random_state is the seed used by the Random Number Generator. \n",
    "                                                   \n",
    "                                                   # X: The generated samples\n",
    "                                                   # Y: Integer label for cluster membership of each sample\n",
    "        "
   ]
  },
  {
   "cell_type": "markdown",
   "metadata": {},
   "source": [
    "# Introduce the outliers"
   ]
  },
  {
   "cell_type": "code",
   "execution_count": 17,
   "metadata": {
    "collapsed": false
   },
   "outputs": [
    {
     "name": "stdout",
     "output_type": "stream",
     "text": [
      "[[ 5.00000000e+04  5.00000000e+04]\n",
      " [-2.76017908e+00  5.55121358e+00]\n",
      " [-1.61734616e+00  4.98930508e+00]\n",
      " [-5.25790464e-01  3.30659860e+00]\n",
      " [ 8.52518583e-02  3.64528297e+00]\n",
      " [-7.94152277e-01  2.10495117e+00]\n",
      " [-1.34052081e+00  4.15711949e+00]\n",
      " [-1.98197711e+00  4.02243551e+00]\n",
      " [-2.18773166e+00  3.33352125e+00]\n",
      " [-1.97451969e-01  2.34634916e+00]]\n"
     ]
    }
   ],
   "source": [
    "X[0,0] = 50000                                    # Set extreme observations for the first observation.\n",
    "X[0,1] = 50000\n",
    "\n",
    "print(X)"
   ]
  },
  {
   "cell_type": "markdown",
   "metadata": {},
   "source": [
    "# Detect the Outliers"
   ]
  },
  {
   "cell_type": "code",
   "execution_count": 21,
   "metadata": {
    "collapsed": false
   },
   "outputs": [
    {
     "data": {
      "text/plain": [
       "array([-1,  1,  1,  1,  1,  1,  1,  1,  1,  1])"
      ]
     },
     "execution_count": 21,
     "metadata": {},
     "output_type": "execute_result"
    }
   ],
   "source": [
    "'''\n",
    "    Here we use EllipticEnvelope, which assumes that the data is NORMALLY DISTRIBUTED. On the basis of this assumption, \n",
    "    it draws an ellipse, around the data. Any observation inside the ellipse is termed as an INLIER (labelled as 1) and any \n",
    "    observation outside an ellipse, is an OUTLIER (labelled as -1). \n",
    "    \n",
    "    Limitation: We need to supply an arbitrary 'contamination' parameter, which indicates the proportion of observations that are \n",
    "    outliers. We generally do not know this proportion's value. \n",
    "'''\n",
    "# Create an instance of EllipticEnvelope class - This is the outlier detector\n",
    "eeObj = EllipticEnvelope(contamination=0.01)\n",
    "\n",
    "# Fit the outlier detector on the EllipticEnvelope class\n",
    "eeObj.fit(X)\n",
    "\n",
    "# Predict the outliers\n",
    "eeObj.predict(X)                                # [-1,  1,  1,  1,  1,  1,  1,  1,  1,  1]\n",
    "                                                # This clearly shows that the first entry is an outlier and hence should be removed        "
   ]
  }
 ],
 "metadata": {
  "kernelspec": {
   "display_name": "Python 3",
   "language": "python",
   "name": "python3"
  },
  "language_info": {
   "codemirror_mode": {
    "name": "ipython",
    "version": 3
   },
   "file_extension": ".py",
   "mimetype": "text/x-python",
   "name": "python",
   "nbconvert_exporter": "python",
   "pygments_lexer": "ipython3",
   "version": "3.6.7"
  }
 },
 "nbformat": 4,
 "nbformat_minor": 2
}
