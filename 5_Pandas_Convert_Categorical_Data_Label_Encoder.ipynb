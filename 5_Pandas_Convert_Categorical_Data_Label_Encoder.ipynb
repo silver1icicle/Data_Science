{
 "cells": [
  {
   "cell_type": "markdown",
   "metadata": {},
   "source": [
    "# Introduction:\n",
    "### Most the datasets have categorical/ non-numeric variables. These variables mask lots of interesting information. Challenges one encounters while dealing with categorical variable:\n",
    "### 1. Categorical variable has too many levels. For e.g. the postal-codes, city, age-groups etc...\n",
    "### 2. Categorical variable has many levels which rarely occur.  \n",
    "### 3. There are a few levels which almost always occur. \n",
    "### 4. Sometimes categorical variables are masked/ encoded. Therefore deciphering their actual meaning is tricky.\n",
    "### 5. Categorical variables cannot be used directly in regressions. They need to be transformed first. \n",
    "### 6. Most of the Python's ML libraries work only when the categorical variables are transformed as needed. "
   ]
  },
  {
   "cell_type": "markdown",
   "metadata": {},
   "source": [
    "# Methods to deal with Categorical Variable:\n",
    "### 1. Convert to number:\n",
    "      1.1 Label Encoder: \n",
    "          It is used to transform non-numerical labels to numeric labels. For e.g. Male/Female ---> (0/1) or \n",
    "          Ratings[good/average/bad] ----> [2/1/0]. \n",
    "          Common drawback of this approch is that its not suitable if the number of levels is more, as it tends to degrade \n",
    "          model performance. For e.g. \"City\" variable which will have many labels. \n",
    "          \n",
    "      1.2 Convert numeric bins to number: \n",
    "          There are variables which contain values in the form of bins. For e.g. 'Age' which has values like [0-17, 18-25...]\n",
    "          For working with such range data, we need to convert them to numerical equivalent. Ways to do that:\n",
    "          1. Use label encoder for conversion\n",
    "          2. Create a new feature using the mean/mode of each age bucket. \n",
    "          3. Create 2 new features one for the lower-bound of the age and one for the upper-bound of the age. \n",
    "      \n",
    "### 2. Combine levels:\n",
    "      2.1 Using a custom business logic:\n",
    "          This is by far the best way to deal with those levels of the categorical variable which rarely occur. Its wise to \n",
    "          club or combine or group seemingly similar levels to one group. For e.g. we can group the different age levels in \n",
    "          categories for infants/ kids/ teenagers/ adults and aged or to group zipcodes on State/ District levels. \n",
    "          We need to write some business logic for this grouping. \n",
    "     \n",
    "      2.2 Using frequency:\n",
    "          Combining the levels using a custom business logic is a good strategy, if we know the business domain. In \n",
    "          situations where in we do not have enough exposure to the domain knowledge, the safest bet is to use the frequency \n",
    "          distribution, of each level and then combine the frequencies less than 5% of the total observations. This is \n",
    "          effective in handling rare levels.\n",
    "\n",
    "### 3. Dummy  coding:\n",
    "          Its one of the most common method for variable encoding, where in we assign the value of 1, if a specific level \n",
    "          exists else 0. For e.g. Female(1), Male(0). In case there are multiple levels in the categorical variable, it is \n",
    "          advised to reduce the number of levels by combining methods and then use dummy coding. This procedure is referrred to \n",
    "          as \"One Hot encoding\". \n",
    "        \n",
    "        \n",
    "        \n",
    "        \n"
   ]
  },
  {
   "cell_type": "markdown",
   "metadata": {},
   "source": [
    "#  In this notebook, we focus on the Label Encoder. "
   ]
  },
  {
   "cell_type": "markdown",
   "metadata": {},
   "source": [
    "# Pre-requistes"
   ]
  },
  {
   "cell_type": "code",
   "execution_count": 29,
   "metadata": {
    "collapsed": true
   },
   "outputs": [],
   "source": [
    "# Import required packages\n",
    "from sklearn import preprocessing\n",
    "import pandas as pd\n"
   ]
  },
  {
   "cell_type": "markdown",
   "metadata": {},
   "source": [
    "# Create custom data frame"
   ]
  },
  {
   "cell_type": "code",
   "execution_count": 28,
   "metadata": {
    "collapsed": false
   },
   "outputs": [
    {
     "name": "stdout",
     "output_type": "stream",
     "text": [
      "   day  obs    wind\n",
      "0  Sun   12  strong\n",
      "1  Mon   20    mild\n",
      "2  Tue    7  normal\n",
      "3  Wed   11  strong\n",
      "4  Thu   15  strong\n",
      "5  Fri    9  normal\n",
      "6  Sat   15    mild\n"
     ]
    }
   ],
   "source": [
    "data = {'day': ['Sun', 'Mon', 'Tue', 'Wed', 'Thu', 'Fri', 'Sat'], \n",
    "        'obs': [12, 20, 7, 11, 15, 9, 15],\n",
    "         'wind': ['strong','mild','normal', 'strong', 'strong','normal', 'mild']\n",
    "       }\n",
    "\n",
    "df = pd.DataFrame(data, columns=['day', 'obs', 'wind'])\n",
    "print(df)\n"
   ]
  },
  {
   "cell_type": "markdown",
   "metadata": {},
   "source": [
    "# Create an instance of the label encoder"
   ]
  },
  {
   "cell_type": "code",
   "execution_count": 32,
   "metadata": {
    "collapsed": false
   },
   "outputs": [
    {
     "name": "stdout",
     "output_type": "stream",
     "text": [
      "LabelEncoder()\n"
     ]
    }
   ],
   "source": [
    "lencoder = preprocessing.LabelEncoder()   # Encode labels with value between 0 and n_classes-1.\n",
    "print(lencoder)"
   ]
  },
  {
   "cell_type": "markdown",
   "metadata": {},
   "source": [
    "# Fit the Label encoder on the specific column of the pandas dataframe"
   ]
  },
  {
   "cell_type": "code",
   "execution_count": 34,
   "metadata": {
    "collapsed": false
   },
   "outputs": [
    {
     "data": {
      "text/plain": [
       "LabelEncoder()"
      ]
     },
     "execution_count": 34,
     "metadata": {},
     "output_type": "execute_result"
    }
   ],
   "source": [
    "lencoder.fit(df.wind)   # [OR] lencoder.fit(df['wind'])"
   ]
  },
  {
   "cell_type": "markdown",
   "metadata": {},
   "source": [
    "# View the labels"
   ]
  },
  {
   "cell_type": "code",
   "execution_count": 35,
   "metadata": {
    "collapsed": false
   },
   "outputs": [
    {
     "data": {
      "text/plain": [
       "['mild', 'normal', 'strong']"
      ]
     },
     "execution_count": 35,
     "metadata": {},
     "output_type": "execute_result"
    }
   ],
   "source": [
    "list(lencoder.classes_)"
   ]
  },
  {
   "cell_type": "markdown",
   "metadata": {},
   "source": [
    "# Transform the categorical variable into numeric format - transform()"
   ]
  },
  {
   "cell_type": "code",
   "execution_count": 40,
   "metadata": {
    "collapsed": false
   },
   "outputs": [],
   "source": [
    "df['wind_transformed'] = lencoder.transform(df['wind'])                           # Create a new column with the encoded values"
   ]
  },
  {
   "cell_type": "markdown",
   "metadata": {},
   "source": [
    "# Check the dataframe"
   ]
  },
  {
   "cell_type": "code",
   "execution_count": 41,
   "metadata": {
    "collapsed": false
   },
   "outputs": [
    {
     "name": "stdout",
     "output_type": "stream",
     "text": [
      "   day  obs    wind  wind_transformed\n",
      "0  Sun   12  strong                 2\n",
      "1  Mon   20    mild                 0\n",
      "2  Tue    7  normal                 1\n",
      "3  Wed   11  strong                 2\n",
      "4  Thu   15  strong                 2\n",
      "5  Fri    9  normal                 1\n",
      "6  Sat   15    mild                 0\n"
     ]
    }
   ],
   "source": [
    "print(df)                                                                        # The classes are encoded are 0,1,2        "
   ]
  },
  {
   "cell_type": "markdown",
   "metadata": {},
   "source": [
    "# Reverse transaformation - i.e. numeric to categorical - inverse_transform()"
   ]
  },
  {
   "cell_type": "code",
   "execution_count": 44,
   "metadata": {
    "collapsed": false
   },
   "outputs": [
    {
     "name": "stdout",
     "output_type": "stream",
     "text": [
      "   day  obs    wind  wind_transformed wind_reverse_transformed\n",
      "0  Sun   12  strong                 2                   strong\n",
      "1  Mon   20    mild                 0                     mild\n",
      "2  Tue    7  normal                 1                   normal\n",
      "3  Wed   11  strong                 2                   strong\n",
      "4  Thu   15  strong                 2                   strong\n",
      "5  Fri    9  normal                 1                   normal\n",
      "6  Sat   15    mild                 0                     mild\n"
     ]
    }
   ],
   "source": [
    "import warnings\n",
    "warnings.filterwarnings(\"ignore\")\n",
    "df['wind_reverse_transformed'] = lencoder.inverse_transform(df['wind_transformed'])\n",
    "print(df)"
   ]
  }
 ],
 "metadata": {
  "kernelspec": {
   "display_name": "Python 3",
   "language": "python",
   "name": "python3"
  },
  "language_info": {
   "codemirror_mode": {
    "name": "ipython",
    "version": 3
   },
   "file_extension": ".py",
   "mimetype": "text/x-python",
   "name": "python",
   "nbconvert_exporter": "python",
   "pygments_lexer": "ipython3",
   "version": "3.6.7"
  }
 },
 "nbformat": 4,
 "nbformat_minor": 2
}
