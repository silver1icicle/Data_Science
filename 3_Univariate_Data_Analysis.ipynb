{
 "cells": [
  {
   "cell_type": "markdown",
   "metadata": {},
   "source": [
    "# Univariate Data Analysis"
   ]
  },
  {
   "cell_type": "code",
   "execution_count": 3,
   "metadata": {
    "collapsed": false
   },
   "outputs": [],
   "source": [
    "import pandas as pd\n",
    "import matplotlib.pyplot as plt\n",
    "import seaborn as sns\n",
    "import numpy as np\n",
    "%matplotlib inline  "
   ]
  },
  {
   "cell_type": "markdown",
   "metadata": {},
   "source": [
    "## Read the dataset "
   ]
  },
  {
   "cell_type": "code",
   "execution_count": 8,
   "metadata": {
    "collapsed": false
   },
   "outputs": [
    {
     "name": "stdout",
     "output_type": "stream",
     "text": [
      "<bound method NDFrame.head of        SEQN  ALQ101  ALQ110  ALQ130  SMQ020  RIAGENDR  RIDAGEYR  RIDRETH1  \\\n",
      "0     83732     1.0     NaN     1.0       1         1        62         3   \n",
      "1     83733     1.0     NaN     6.0       1         1        53         3   \n",
      "2     83734     1.0     NaN     NaN       1         1        78         3   \n",
      "3     83735     2.0     1.0     1.0       2         2        56         3   \n",
      "4     83736     2.0     1.0     1.0       2         2        42         4   \n",
      "5     83737     2.0     2.0     NaN       2         2        72         1   \n",
      "6     83741     1.0     NaN     8.0       1         1        22         4   \n",
      "7     83742     1.0     NaN     1.0       2         2        32         1   \n",
      "8     83743     NaN     NaN     NaN       2         1        18         5   \n",
      "9     83744     1.0     NaN     NaN       2         1        56         4   \n",
      "10    83747     1.0     NaN     1.0       1         1        46         3   \n",
      "11    83750     1.0     NaN     3.0       1         1        45         5   \n",
      "12    83752     1.0     NaN     2.0       1         2        30         2   \n",
      "13    83754     2.0     1.0     1.0       2         2        67         2   \n",
      "14    83755     1.0     NaN     3.0       2         1        67         4   \n",
      "15    83757     1.0     NaN     1.0       2         2        57         2   \n",
      "16    83759     2.0     2.0     NaN       2         2        19         1   \n",
      "17    83761     1.0     NaN     1.0       2         2        24         5   \n",
      "18    83762     NaN     NaN     NaN       1         2        27         4   \n",
      "19    83767     2.0     2.0     NaN       2         2        54         5   \n",
      "20    83769     1.0     NaN     2.0       2         1        49         5   \n",
      "21    83773     2.0     2.0     NaN       2         2        80         3   \n",
      "22    83775     2.0     1.0     NaN       1         2        69         2   \n",
      "23    83776     NaN     NaN     NaN       2         2        58         1   \n",
      "24    83777     2.0     2.0     NaN       2         1        56         5   \n",
      "25    83781     1.0     NaN     3.0       2         2        27         4   \n",
      "26    83784     1.0     NaN     4.0       1         1        22         2   \n",
      "27    83785     2.0     1.0     1.0       1         2        60         2   \n",
      "28    83786     NaN     NaN     NaN       2         1        51         4   \n",
      "29    83787     2.0     2.0     NaN       2         2        68         1   \n",
      "...     ...     ...     ...     ...     ...       ...       ...       ...   \n",
      "5705  93645     2.0     1.0     NaN       1         1        80         3   \n",
      "5706  93652     1.0     NaN     NaN       1         1        72         2   \n",
      "5707  93653     1.0     NaN     3.0       2         2        25         3   \n",
      "5708  93654     2.0     2.0     NaN       2         2        29         5   \n",
      "5709  93655     1.0     NaN     NaN       1         1        38         3   \n",
      "5710  93656     2.0     2.0     NaN       2         2        75         1   \n",
      "5711  93659     1.0     NaN     1.0       1         1        62         1   \n",
      "5712  93661     1.0     NaN     2.0       2         2        27         2   \n",
      "5713  93663     1.0     NaN     4.0       2         1        43         1   \n",
      "5714  93664     2.0     1.0     2.0       2         1        39         1   \n",
      "5715  93665     NaN     NaN     NaN       2         2        34         3   \n",
      "5716  93668     1.0     NaN     NaN       1         2        73         1   \n",
      "5717  93670     1.0     NaN     3.0       1         1        32         3   \n",
      "5718  93671     1.0     NaN     3.0       2         1        45         4   \n",
      "5719  93672     2.0     2.0     NaN       1         2        63         2   \n",
      "5720  93675     1.0     NaN     1.0       2         1        38         5   \n",
      "5721  93676     1.0     NaN     2.0       2         2        35         4   \n",
      "5722  93677     1.0     NaN     1.0       2         2        34         3   \n",
      "5723  93679     2.0     1.0     NaN       1         2        72         4   \n",
      "5724  93682     NaN     NaN     NaN       2         2        41         5   \n",
      "5725  93684     2.0     2.0     NaN       2         1        34         4   \n",
      "5726  93685     1.0     NaN     2.0       1         1        53         1   \n",
      "5727  93689     2.0     1.0     NaN       2         2        69         1   \n",
      "5728  93690     1.0     NaN     3.0       2         1        32         2   \n",
      "5729  93691     2.0     2.0     NaN       2         1        25         5   \n",
      "5730  93695     2.0     2.0     NaN       1         2        76         3   \n",
      "5731  93696     2.0     2.0     NaN       2         1        26         3   \n",
      "5732  93697     1.0     NaN     1.0       1         2        80         3   \n",
      "5733  93700     NaN     NaN     NaN       1         1        35         3   \n",
      "5734  93702     1.0     NaN     2.0       2         2        24         3   \n",
      "\n",
      "      DMDCITZN  DMDEDUC2   ...    BPXSY2  BPXDI2  BMXWT  BMXHT  BMXBMI  \\\n",
      "0          1.0       5.0   ...     124.0    64.0   94.8  184.5    27.8   \n",
      "1          2.0       3.0   ...     140.0    88.0   90.4  171.4    30.8   \n",
      "2          1.0       3.0   ...     132.0    44.0   83.4  170.1    28.8   \n",
      "3          1.0       5.0   ...     134.0    68.0  109.8  160.9    42.4   \n",
      "4          1.0       4.0   ...     114.0    54.0   55.2  164.9    20.3   \n",
      "5          2.0       2.0   ...     122.0    58.0   64.4  150.0    28.6   \n",
      "6          1.0       4.0   ...     112.0    74.0   76.6  165.4    28.0   \n",
      "7          2.0       4.0   ...     114.0    70.0   64.5  151.3    28.2   \n",
      "8          1.0       NaN   ...       NaN     NaN   72.4  166.1    26.2   \n",
      "9          1.0       3.0   ...     180.0   114.0  108.3  179.4    33.6   \n",
      "10         1.0       5.0   ...     150.0    90.0   86.2  176.7    27.6   \n",
      "11         1.0       2.0   ...     108.0    72.0   76.2  177.8    24.1   \n",
      "12         1.0       4.0   ...     104.0    50.0   71.2  163.6    26.6   \n",
      "13         1.0       5.0   ...     116.0    64.0  117.8  164.1    43.7   \n",
      "14         1.0       5.0   ...     136.0    82.0   97.4  183.8    28.8   \n",
      "15         1.0       1.0   ...     146.0    62.0   80.5  150.8    35.4   \n",
      "16         1.0       NaN   ...     102.0    66.0  100.8  175.4    32.8   \n",
      "17         2.0       5.0   ...     108.0    60.0   61.8  156.4    25.3   \n",
      "18         1.0       4.0   ...     144.0    84.0  107.9  168.5    38.0   \n",
      "19         1.0       4.0   ...     126.0    82.0   59.0  149.9    26.3   \n",
      "20         1.0       2.0   ...     106.0    68.0   72.8  170.7    25.0   \n",
      "21         1.0       3.0   ...     146.0    68.0   67.7  149.8    30.2   \n",
      "22         1.0       1.0   ...     132.0    48.0   77.7  160.2    30.3   \n",
      "23         1.0       5.0   ...     110.0    62.0   56.6  157.5    22.8   \n",
      "24         1.0       2.0   ...     132.0    84.0   69.0  166.1    25.0   \n",
      "25         1.0       5.0   ...     110.0    66.0   87.8  160.7    34.0   \n",
      "26         1.0       4.0   ...     124.0    84.0   73.7  170.7    25.3   \n",
      "27         1.0       5.0   ...     136.0    74.0   75.6  145.2    35.9   \n",
      "28         1.0       4.0   ...     140.0    80.0  102.1  182.2    30.8   \n",
      "29         1.0       1.0   ...     124.0    58.0   77.4  152.0    33.5   \n",
      "...        ...       ...   ...       ...     ...    ...    ...     ...   \n",
      "5705       1.0       5.0   ...     168.0     0.0    NaN  165.9     NaN   \n",
      "5706       1.0       2.0   ...     132.0    30.0   88.9  165.9    32.3   \n",
      "5707       1.0       5.0   ...     132.0    84.0   76.9  169.3    26.8   \n",
      "5708       2.0       5.0   ...     100.0    72.0   54.5  152.6    23.4   \n",
      "5709       1.0       2.0   ...     126.0    60.0   75.9  177.8    24.0   \n",
      "5710       1.0       3.0   ...     134.0    44.0   92.7  156.4    37.9   \n",
      "5711       2.0       1.0   ...     140.0    88.0   67.9  164.6    25.1   \n",
      "5712       1.0       4.0   ...     106.0    64.0  101.8  157.6    41.0   \n",
      "5713       2.0       1.0   ...     114.0    74.0   75.7  177.1    24.1   \n",
      "5714       2.0       3.0   ...     166.0    94.0   74.9  169.6    26.0   \n",
      "5715       1.0       5.0   ...     126.0    84.0   69.0  169.6    24.0   \n",
      "5716       1.0       1.0   ...       NaN     NaN  119.6  149.0    53.9   \n",
      "5717       2.0       5.0   ...     112.0    72.0   81.4  170.1    28.1   \n",
      "5718       1.0       5.0   ...     120.0    58.0   89.0  174.3    29.3   \n",
      "5719       1.0       1.0   ...       NaN     NaN   81.9  147.6    37.6   \n",
      "5720       2.0       5.0   ...     118.0    62.0   77.6  179.0    24.2   \n",
      "5721       1.0       5.0   ...     114.0    76.0   92.2  161.7    35.3   \n",
      "5722       1.0       5.0   ...     110.0    78.0   62.2  167.4    22.2   \n",
      "5723       1.0       2.0   ...     136.0    78.0   57.8  157.0    23.4   \n",
      "5724       1.0       5.0   ...     122.0    84.0   58.2  166.9    20.9   \n",
      "5725       1.0       5.0   ...     112.0    72.0  101.2  180.9    30.9   \n",
      "5726       2.0       2.0   ...     128.0    56.0   78.7  156.9    32.0   \n",
      "5727       1.0       1.0   ...     166.0    64.0   64.8  151.9    28.1   \n",
      "5728       1.0       2.0   ...     118.0    58.0   89.5  164.9    32.9   \n",
      "5729       2.0       5.0   ...     112.0    76.0   39.2  136.5    21.0   \n",
      "5730       1.0       3.0   ...     112.0    46.0   59.1  165.8    21.5   \n",
      "5731       1.0       5.0   ...     116.0    76.0  112.1  182.2    33.8   \n",
      "5732       1.0       4.0   ...     146.0    58.0   71.7  152.2    31.0   \n",
      "5733       2.0       1.0   ...     106.0    66.0   78.2  173.3    26.0   \n",
      "5734       1.0       5.0   ...     114.0    68.0   58.3  165.0    21.4   \n",
      "\n",
      "      BMXLEG  BMXARML  BMXARMC  BMXWAIST  HIQ210  \n",
      "0       43.3     43.6     35.9     101.1     2.0  \n",
      "1       38.0     40.0     33.2     107.9     NaN  \n",
      "2       35.6     37.0     31.0     116.5     2.0  \n",
      "3       38.5     37.7     38.3     110.1     2.0  \n",
      "4       37.4     36.0     27.2      80.4     2.0  \n",
      "5       34.4     33.5     31.4      92.9     NaN  \n",
      "6       38.8     38.0     34.0      86.6     NaN  \n",
      "7       34.1     33.1     31.5      93.3     2.0  \n",
      "8        NaN      NaN      NaN       NaN     2.0  \n",
      "9       46.0     44.1     38.5     116.0     2.0  \n",
      "10      41.0     38.0     33.6     104.3     2.0  \n",
      "11      43.9     37.8     33.0      90.1     NaN  \n",
      "12      37.3     35.7     31.0      90.7     2.0  \n",
      "13      34.8     38.6     42.7     123.0     2.0  \n",
      "14      42.5     40.6     34.2     106.3     2.0  \n",
      "15      31.6     32.7     33.7     113.5     2.0  \n",
      "16      40.7     38.6     35.9     104.6     1.0  \n",
      "17      37.0     35.5     29.6      79.5     NaN  \n",
      "18      40.1     39.0     41.6     114.8     1.0  \n",
      "19      32.7     33.3     30.4      88.9     2.0  \n",
      "20      42.8     40.0     31.5      96.6     2.0  \n",
      "21      33.4     36.2     30.3     108.4     2.0  \n",
      "22      32.7     37.6     30.7     106.8     2.0  \n",
      "23      34.5     31.0     28.0      83.0     2.0  \n",
      "24      40.7     37.1     31.0      93.5     2.0  \n",
      "25      41.4     33.7     32.1     103.6     2.0  \n",
      "26      41.2     36.0     29.7      86.2     2.0  \n",
      "27      31.0     33.1     36.0     108.0     2.0  \n",
      "28      41.8     38.9     37.8     107.7     2.0  \n",
      "29      33.4     34.6     34.9     103.1     2.0  \n",
      "...      ...      ...      ...       ...     ...  \n",
      "5705    37.0     38.0     30.0      95.0     2.0  \n",
      "5706    36.7     38.8     34.2     114.2     2.0  \n",
      "5707    41.8     35.9     29.8      79.0     1.0  \n",
      "5708    36.3     32.7     26.6      80.2     9.0  \n",
      "5709    40.5     39.8     30.2      92.0     2.0  \n",
      "5710    31.5     35.5     33.6     122.0     2.0  \n",
      "5711    33.7     37.0     31.5      90.7     2.0  \n",
      "5712    36.5     34.5     37.1     127.0     1.0  \n",
      "5713    43.0     39.7     31.3      94.6     1.0  \n",
      "5714    40.5     39.3     31.5      92.5     2.0  \n",
      "5715    38.9     37.5     27.6      91.5     2.0  \n",
      "5716     NaN     35.5     44.7       NaN     1.0  \n",
      "5717    41.7     38.2     33.9      93.6     1.0  \n",
      "5718    42.4     40.6     39.5      97.0     2.0  \n",
      "5719    35.0     33.0     38.2     122.5     2.0  \n",
      "5720    42.3     41.5     31.7      94.2     2.0  \n",
      "5721    41.5     37.5     38.9     110.9     2.0  \n",
      "5722    39.8     37.7     28.5      83.3     2.0  \n",
      "5723    32.0     35.5     26.8      90.4     2.0  \n",
      "5724    37.1     35.3     26.9      80.8     2.0  \n",
      "5725    43.7     43.0     41.3      99.0     2.0  \n",
      "5726    31.5     38.0     33.7     107.5     2.0  \n",
      "5727    32.2     32.6     28.7     101.1     2.0  \n",
      "5728    40.0     38.0     39.0     101.0     2.0  \n",
      "5729    33.6     29.7     23.8      75.4     2.0  \n",
      "5730    38.2     37.0     29.5      95.0     2.0  \n",
      "5731    43.4     41.8     42.3     110.2     2.0  \n",
      "5732    31.3     37.5     28.8       NaN     2.0  \n",
      "5733    40.3     37.5     30.6      98.9     2.0  \n",
      "5734    38.2     33.5     26.2      72.5     2.0  \n",
      "\n",
      "[5735 rows x 28 columns]>\n",
      "SEQN          int64\n",
      "ALQ101      float64\n",
      "ALQ110      float64\n",
      "ALQ130      float64\n",
      "SMQ020        int64\n",
      "RIAGENDR      int64\n",
      "RIDAGEYR      int64\n",
      "RIDRETH1      int64\n",
      "DMDCITZN    float64\n",
      "DMDEDUC2    float64\n",
      "DMDMARTL    float64\n",
      "DMDHHSIZ      int64\n",
      "WTINT2YR    float64\n",
      "SDMVPSU       int64\n",
      "SDMVSTRA      int64\n",
      "INDFMPIR    float64\n",
      "BPXSY1      float64\n",
      "BPXDI1      float64\n",
      "BPXSY2      float64\n",
      "BPXDI2      float64\n",
      "BMXWT       float64\n",
      "BMXHT       float64\n",
      "BMXBMI      float64\n",
      "BMXLEG      float64\n",
      "BMXARML     float64\n",
      "BMXARMC     float64\n",
      "BMXWAIST    float64\n",
      "HIQ210      float64\n",
      "dtype: object\n",
      "(5735, 28)\n"
     ]
    }
   ],
   "source": [
    "df = pd.read_csv(\"nhanes_2015_2016.csv\")\n",
    "print(df.head)     # View the first few rows\n",
    "print(df.dtypes)   # View datatypes of the columns\n",
    "print(df.shape)    # To get the total number of rows and columns in the dataset  [5735 x 28]"
   ]
  },
  {
   "cell_type": "markdown",
   "metadata": {},
   "source": [
    "## Frequency Tables"
   ]
  },
  {
   "cell_type": "code",
   "execution_count": 11,
   "metadata": {
    "collapsed": false
   },
   "outputs": [
    {
     "name": "stdout",
     "output_type": "stream",
     "text": [
      "4.0    1621\n",
      "5.0    1366\n",
      "3.0    1186\n",
      "1.0     655\n",
      "2.0     643\n",
      "9.0       3\n",
      "Name: DMDEDUC2, dtype: int64\n",
      "5474\n",
      "261\n"
     ]
    }
   ],
   "source": [
    "# Here we focus on the variable: DMDEDUC2 - which reflects the persons level of educational attainment. \n",
    "# The variable has the following mapping: \n",
    "# 1\tLess than 9th grade\n",
    "# 2\t9-11th grade (Includes 12th grade with no diploma)\n",
    "# 3\tHigh school graduate/GED or equivalent\n",
    "# 4\tSome college or AA degree\n",
    "# 5\tCollege graduate or above\n",
    "# 7\tRefused\n",
    "# 9\tDon't Know\n",
    "# .\tMissing\n",
    "\n",
    "# For frequency count, We will use the pandas method value_counts()  which returns a data frame comprising of 2 columns: \n",
    "# [1] Distinct observed values of the variable\n",
    "# [2] Count of each of this distinct variables. \n",
    "print(df.DMDEDUC2.value_counts())\n",
    "\n",
    "# Note: The value_counts() eliminates the missing values. We can prove it. We know that the total row in dataset: 5735\n",
    "# If the sum of all the frequencies should be 5735,if not...value_counts() skipped the missing values. \n",
    "# Proof [1]\n",
    "print(df.DMDEDUC2.value_counts().sum())   # 5474...this means that there are 5735 - 5474 = 261 missing values. \n",
    "\n",
    "# Proof [2]\n",
    "print(pd.isnull(df.DMDEDUC2).sum())       # 261 missing values. \n"
   ]
  },
  {
   "cell_type": "markdown",
   "metadata": {},
   "source": [
    "# Verbose Frequency Table"
   ]
  },
  {
   "cell_type": "code",
   "execution_count": 15,
   "metadata": {
    "collapsed": false
   },
   "outputs": [
    {
     "name": "stdout",
     "output_type": "stream",
     "text": [
      "Some College/AA     1621\n",
      "College Graduate    1366\n",
      "HS/GED              1186\n",
      "<9                   655\n",
      "9-11                 643\n",
      "Dont Know              3\n",
      "Name: DMDEDUC2x, dtype: int64\n",
      "+-+-+-+-+-+-+-+-+-+-+-+-+-+-+-+-+-+-+-+-+-+-+-+-+-+-+-+-+-+-\n",
      "Female    2976\n",
      "Male      2759\n",
      "Name: RIAGENDRx, dtype: int64\n"
     ]
    }
   ],
   "source": [
    "# The column DMDEDUC2 has an innate mappping, which is explained in the documentation. Thus the frequency table, isnt that intuitive. \n",
    "# Reference: https://wwwn.cdc.gov/Nchs/Nhanes/2015-2016/DEMO_I.htm#DMDEDUC2\n",
    "# We can eliminate this issue by creating a new column which explains the mappings and then run a frequency count. \n",
    "# Original column: DMDEDUC2\n",
    "# New column: DMDEDUC2x\n",
    "df[\"DMDEDUC2x\"] = df.DMDEDUC2.replace({1:\"<9\", 2:\"9-11\", 3:\"HS/GED\", 4:\"Some College/AA\", 5:\"College Graduate\", 7:\"Refused\", \n",
    "                                       9:\"Dont Know\"})\n",
    "print(df.DMDEDUC2x.value_counts())\n",
    "\n",
    "print(\"+-+-+-+-+-+-+-+-+-+-+-+-+-+-+-+-+-+-+-+-+-+-+-+-+-+-+-+-+-+-\")\n",
    "# Similarly consider the mapping for the variable \"RIAGENDR\". \n",
    "# This variable represents the gender of the participant, with the mapping of Male-1 and Female-0\n",
    "# Reference: https://wwwn.cdc.gov/Nchs/Nhanes/2015-2016/DEMO_I.htm#RIAGENDR\n",
    "# Lets create a new column with intuitive mapping\n",
    "df[\"RIAGENDRx\"] = df.RIAGENDR.replace({1:'Male', 2:'Female'})\n",
    "print(df.RIAGENDRx.value_counts())"
   ]
  },
  {
   "cell_type": "markdown",
   "metadata": {},
   "source": [
    "# Proportions Table\n",
    "## In many situations we are interested to determine the proportion in each category, rather than knowing the mere frequencies. "
   ]
  },
  {
   "cell_type": "code",
   "execution_count": 20,
   "metadata": {
    "collapsed": false
   },
   "outputs": [
    {
     "name": "stdout",
     "output_type": "stream",
     "text": [
      "Propertion of people in each level of educational attainment:---->\n",
      "\n",
      " Some College/AA     0.296127\n",
      "College Graduate    0.249543\n",
      "HS/GED              0.216661\n",
      "<9                  0.119657\n",
      "9-11                0.117464\n",
      "Dont Know           0.000548\n",
      "Name: DMDEDUC2x, dtype: float64\n"
     ]
    }
   ],
   "source": [
    "freq = df.DMDEDUC2x.value_counts()\n",
    "prop = freq/freq.sum()\n",
    "print(\"Propertion of people in each level of educational attainment:---->\\n\\n\", prop)"
   ]
  },
  {
   "cell_type": "markdown",
   "metadata": {},
   "source": [
    "# Numerical Summaries\n",
    "## Here we use the describe() of the pandas data frame. "
   ]
  },
  {
   "cell_type": "code",
   "execution_count": 27,
   "metadata": {
    "collapsed": false
   },
   "outputs": [
    {
     "name": "stdout",
     "output_type": "stream",
     "text": [
      "81.34267560889509\n",
      "81.34267560889509\n",
      "78.2\n",
      "78.2\n",
      "92.7\n",
      "92.7\n"
     ]
    }
   ],
   "source": [
    "# Lets say we are interested in determining the summary statistics of the numeric variable- \"BMXWT\" - Refers to body weight in kg.\n",
    "# Reference: https://wwwn.cdc.gov/Nchs/Nhanes/2015-2016/BMX_I.htm#BMXWT\n",
    "# First determine the number of missing values in this column\n",
    "pd.isnull(df.BMXWT).sum()   # 69\n",
    "\n",
    "# Determine the summary stats after excluding the missing values \n",
    "# Summary stats is a 5 point summary. \n",
    "df.BMXWT.dropna().describe()\n",
    "\n",
    "# We can also compute summary stats individually using methods from 'pandas' and 'numpy' library\n",
    "x = df.BMXWT.dropna()    # Extract all non-missing values of BMXWT into a variable called 'x'\n",
    "# [1] MEAN\n",
    "print(x.mean())                # Pandas method\n",
    "print(np.mean(x))              # Numpy method \n",
    "\n",
    "# [2] MEDIAN\n",
    "print(x.median())              # Pandas method\n",
    "print(np.percentile(x, 50))    # Numpy method (50th percentile == Median)\n",
    "\n",
    "# [3] 75th PERCENTILE\n",
    "print(x.quantile(0.75))        # Pandas Method\n",
    "print(np.percentile(x, 75))    # Numpy method\n"
   ]
  },
  {
   "cell_type": "markdown",
   "metadata": {},
   "source": [
    "# Compute Proportions\n",
    "## Consider the variable: BPXSY1. \"BPX\" refers to the blood pressure measurement. \"SY\" stands for systolic blood pressure (i.e. Blood Pressure at the peak of a heartbeat cycle). \"1\" indicates that this is first of the three systolic blood pressure measurements taken on a subject. \n",
    "## A person is generally considered to have pre-hypertension when their systolic blood pressure is in between 120-139 [OR] their diastolic blood pressure is in between 80 to  89. \n",
    "## Considering both the systolic and diastolic conditions, lets compute the PROPORTION of people who have pre-hypertension. \n",
    "## Reference: https://wwwn.cdc.gov/Nchs/Nhanes/2015-2016/BPX_I.htm#BPXSY1"
   ]
  },
  {
   "cell_type": "code",
   "execution_count": 31,
   "metadata": {
    "collapsed": false
   },
   "outputs": [
    {
     "name": "stdout",
     "output_type": "stream",
     "text": [
      "0.3741935483870968\n",
      "0.14803836094158676\n"
     ]
    }
   ],
   "source": [
    "print(np.mean((df.BPXSY1 >= 120) & (df.BPXSY2 <= 139)))      # Compute proportions using Systolic Blood Pressure\n",
    "                                                             # & == AND Logical operator\n",
    "\n",
    "print(np.mean((df.BPXDI1 >= 80) & (df.BPXDI2 <= 89)))        # Compute proportions using Diastolic Blood Pressure\n"
   ]
  },
  {
   "cell_type": "markdown",
   "metadata": {},
   "source": [
    "## Lets compute the proportion of NHANES subjects who are pre-hypertensive based on either systolic (or) diastolic pre-tensive status separately and then combine the results with a Logical OR to get the final status  of the subjects. "
   ]
  },
  {
   "cell_type": "code",
   "execution_count": 35,
   "metadata": {
    "collapsed": false
   },
   "outputs": [
    {
     "name": "stdout",
     "output_type": "stream",
     "text": [
      "0.43975588491717527\n"
     ]
    }
   ],
   "source": [
    "a = (df.BPXSY1 >= 120) & (df.BPXSY2 <= 139)               # You get a matrix of True and False\n",
    "b = (df.BPXDI1 >= 80) & (df.BPXDI2 <= 89)\n",
    "print(np.mean(a|b))                                       # 0.43975588491717527...Proportion of subjects with pre-hypertension."
   ]
  },
  {
   "cell_type": "markdown",
   "metadata": {},
   "source": [
    "# Lets compute the \"White Coat Anxiety\" factor. \n",
    "## Blood pressure measurements are affected by a phenomenon called \"white coat anxiety\", in which a subject's bood pressure may be slightly elevated if they are nervous when interacting with health care providers. Typically this effect subsides if the blood pressure is measured several times in sequence. In NHANES, both systolic and diastolic blood pressure are meausred three times for each subject (e.g. BPXSY2 is the second measurement of systolic blood pressure). We can calculate the extent to which white coat anxiety is present in the NHANES data by looking a the mean difference between the first two systolic or diastolic blood pressure measurements."
   ]
  },
  {
   "cell_type": "code",
   "execution_count": 36,
   "metadata": {
    "collapsed": false
   },
   "outputs": [
    {
     "name": "stdout",
     "output_type": "stream",
     "text": [
      "0.6749860309182343\n",
      "0.3490407897187558\n"
     ]
    }
   ],
   "source": [
    "print(np.mean(df.BPXSY1 - df.BPXSY2))\n",
    "print(np.mean(df.BPXDI1 - df.BPXDI2))"
   ]
  },
  {
   "cell_type": "markdown",
   "metadata": {},
   "source": [
    "# Graphical Summaries"
   ]
  },
  {
   "cell_type": "markdown",
   "metadata": {},
   "source": [
    "## Lets observe the distribution of body weight (in Kg)"
   ]
  },
  {
   "cell_type": "code",
   "execution_count": 37,
   "metadata": {
    "collapsed": false
   },
   "outputs": [
    {
     "data": {
      "text/plain": [
       "<matplotlib.axes._subplots.AxesSubplot at 0x157715e2208>"
      ]
     },
     "execution_count": 37,
     "metadata": {},
     "output_type": "execute_result"
    },
    {
     "data": {
      "image/png": "[encoded data removed]",
      "text/plain": [
       "<Figure size 432x288 with 1 Axes>"
      ]
     },
     "metadata": {},
     "output_type": "display_data"
    }
   ],
   "source": [
    "sns.distplot(df.BMXWT.dropna())\n",
    "# Interpretation: The curve is unimodal + right skewed. "
   ]
  },
  {
   "cell_type": "markdown",
   "metadata": {},
   "source": [
    "## Lets observe the histogram for systolic blood pressure measurements "
   ]
  },
  {
   "cell_type": "code",
   "execution_count": 39,
   "metadata": {
    "collapsed": false
   },
   "outputs": [
    {
     "data": {
      "text/plain": [
       "<matplotlib.axes._subplots.AxesSubplot at 0x15771a8d358>"
      ]
     },
     "execution_count": 39,
     "metadata": {},
     "output_type": "execute_result"
    },
    {
     "data": {
      "image/png": "[encoded data removed]",
      "text/plain": [
       "<Figure size 432x288 with 1 Axes>"
      ]
     },
     "metadata": {},
     "output_type": "display_data"
    }
   ],
   "source": [
    "sns.distplot(df.BPXSY1.dropna())"
   ]
  },
  {
   "cell_type": "markdown",
   "metadata": {},
   "source": [
    "# Stratification\n",
    "## One of the most effective way to get more information about a dataset is to divide it into, smaller + more uniform subsets/ stratas and then analyze each of the strata on its own. When working with Human subjects, we can stratify on demographic factors such as age/ sex/ race. \n",
    "## To explain the concept of stratification, consider \"blood pressure\", which is a value that tends to increase with age. To analyze this trend, we can partition the data, into \"age strata\" and construct side-by-side boxplots for systolic blood pressure within each stratum. \n",
    "## Since age is a quantitative variable, we need to create a series of \"bins\" of similar systolic blood pressure values "
   ]
  },
  {
   "cell_type": "code",
   "execution_count": 43,
   "metadata": {
    "collapsed": false
   },
   "outputs": [
    {
     "data": {
      "text/plain": [
       "<matplotlib.axes._subplots.AxesSubplot at 0x15771dd4b00>"
      ]
     },
     "execution_count": 43,
     "metadata": {},
     "output_type": "execute_result"
    },
    {
     "data": {
      "image/png": "[encoded data removed]",
      "text/plain": [
       "<Figure size 864x360 with 1 Axes>"
      ]
     },
     "metadata": {},
     "output_type": "display_data"
    }
   ],
   "source": [
    "df[\"ageGroup\"] = pd.cut(df.RIDAGEYR, [18, 30, 40, 50, 60, 70, 80])     # Create \"Age Strata\" based on the mentioned cut points\n",
    "plt.figure(figsize=(12, 5))                                      # Specify the plot dimensions (12 cm wide + 5 cm wide)\n",
    "sns.boxplot(x=\"ageGroup\", y=\"BPXSY1\", data=df)"
   ]
  },
  {
   "cell_type": "markdown",
   "metadata": {},
   "source": [
    "## Now the blood pressure also depends upon the Gender of the subject. We can illustrate the constrast using 2 side-by-side boxplots. Since age does have a strong influence on the blood pressure of the subject, we will include it, in the analysis of the influence of gender on blood pressure. We therefore need to DOUBLE STRATIFY the data by gender and by age. \n"
   ]
  },
  {
   "cell_type": "code",
   "execution_count": 46,
   "metadata": {
    "collapsed": false
   },
   "outputs": [
    {
     "data": {
      "text/plain": [
       "<matplotlib.axes._subplots.AxesSubplot at 0x15771e31438>"
      ]
     },
     "execution_count": 46,
     "metadata": {},
     "output_type": "execute_result"
    },
    {
     "data": {
      "image/png": "[encoded data removed]",
      "text/plain": [
       "<Figure size 864x360 with 1 Axes>"
      ]
     },
     "metadata": {},
     "output_type": "display_data"
    }
   ],
   "source": [
    "df[\"ageGroup\"] = pd.cut(df.RIDAGEYR, [18, 30, 40, 50, 60, 70, 80])         # \n",
    "plt.figure(figsize=(12, 5))\n",
    "sns.boxplot(x=\"ageGroup\", y=\"BPXSY1\", hue=\"RIAGENDRx\", data=df)            # x,y,hue: Used to specify input (long form) data. "
   ]
  }
 ],
 "metadata": {
  "kernelspec": {
   "display_name": "Python 3",
   "language": "python",
   "name": "python3"
  },
  "language_info": {
   "codemirror_mode": {
    "name": "ipython",
    "version": 3
   },
   "file_extension": ".py",
   "mimetype": "text/x-python",
   "name": "python",
   "nbconvert_exporter": "python",
   "pygments_lexer": "ipython3",
   "version": "3.6.7"
  }
 },
 "nbformat": 4,
 "nbformat_minor": 2
}
