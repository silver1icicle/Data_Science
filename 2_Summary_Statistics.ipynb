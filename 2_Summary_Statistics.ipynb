{
 "cells": [
  {
   "cell_type": "markdown",
   "metadata": {},
   "source": [
    "# Summary Statistics: Generates descriptive statistics that summarize the central tendency, dispersion and shape of a dataset’s distribution, excluding NaN values.\n",
    "## <html> <font color='green'>Summary statistics usually comprises of the 5 Number Summary viz..</font></html>\n",
    "## 1. Minimum\n",
    "## 2. 1st. Quartile (25 percentile - i.e. 25% of the data falls below this value)\n",
    "## 3. Median (2nd Quartile) (50 percentile - i.e. 50% of the data falls below this value)\n",
    "## 4. 3rd. Quartile (75 percentile - i.e. 75% of the data falls below this value)\n",
    "## 5. Maximum "
   ]
  },
  {
   "cell_type": "code",
   "execution_count": 2,
   "metadata": {
    "collapsed": false
   },
   "outputs": [
    {
     "data": {
      "text/plain": [
       "count    10000.000000\n",
       "mean        38.921800\n",
       "std         10.487806\n",
       "min         18.000000\n",
       "25%         32.000000\n",
       "50%         37.000000\n",
       "75%         44.000000\n",
       "max         92.000000\n",
       "Name: Age, dtype: float64"
      ]
     },
     "execution_count": 2,
     "metadata": {},
     "output_type": "execute_result"
    }
   ],
   "source": [
    "import pandas as pd\n",
    "df = pd.read_csv(\"Churn_Modelling.csv\")\n",
    "pd.DataFrame.describe(df.Age)\n"
   ]
  },
  {
   "cell_type": "markdown",
   "metadata": {},
   "source": [
    "# <html><font color='Blue'>Inference:</font></html>\n",
    "## Minimum age of the person: <html><font color='red'>18 years</font></html>\n",
    "## Maximum age of the person: <html><font color='red'>92 years</font></html>\n",
    "## 25% of the people have an age < <html><font color='red'>32 years </font></html>\n",
    "## 50% of the people have an age < <html><font color='red'>37 years </font></html>\n",
    "## 75% of the people have an age < <html><font color='red'>44 years </font></html>\n",
    "\n",
    "# Additional summary statistics:\n",
    "## 1. Range : Maximum - Minimum = <html><font color='red'> 92 - 18 = 74 </font></html>\n",
    "## 2. IQR: Inter Quartile Range = <html><font color='red'> Q3 -Q1 = 44 - 32 = 12 </font></html>\n",
    "## 3. SD: <html><font color='red'> 10.487806 (Age) </font></html>i.e. on an average the age of the person will be 10.487806 above or below the mean average age. The SD measures how FAR the value is from the mean. According to the Emperical Rule or the 68-95-99.7 Rule:\n",
    "### 68% of the observations lie within +/-1 SD of the mean. \n",
    "### 95% of the observations lie within +/- 2 SD of the mean. \n",
    "### 99.7% of the observations lie within +/- 3 SD of the mean. \n",
    "\n",
    "## 4. Mean: <html><font color='red'> 38.921800 Age </font></html> i.e. roughly 2 units more than the median or the 50th percentile or Q2."
   ]
  },
  {
   "cell_type": "code",
   "execution_count": null,
   "metadata": {
    "collapsed": true
   },
   "outputs": [],
   "source": []
  }
 ],
 "metadata": {
  "kernelspec": {
   "display_name": "Python 3",
   "language": "python",
   "name": "python3"
  },
  "language_info": {
   "codemirror_mode": {
    "name": "ipython",
    "version": 3
   },
   "file_extension": ".py",
   "mimetype": "text/x-python",
   "name": "python",
   "nbconvert_exporter": "python",
   "pygments_lexer": "ipython3",
   "version": "3.6.0"
  }
 },
 "nbformat": 4,
 "nbformat_minor": 2
}
