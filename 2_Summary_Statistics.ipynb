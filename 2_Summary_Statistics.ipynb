{
 "cells": [
  {
   "cell_type": "markdown",
   "metadata": {},
   "source": [
    "# Summary Statistics: Generates descriptive statistics that summarize the central tendency, dispersion and shape of a dataset’s distribution, excluding NaN values.\n",
    "## Summary statistics usually comprises of the 5 Number Summary viz...\n",
    "## 1. Minimum\n",
    "## 2. 1st. Quartile (25 percentile - i.e. 25% of the data falls below this value)\n",
    "## 3. Median (2nd Quartile) (50 percentile - i.e. 50% of the data falls below this value)\n",
    "## 4. 3rd. Quartile (75 percentile - i.e. 75% of the data falls below this value)\n",
    "## 5. Maximum "
   ]
  },
  {
   "cell_type": "code",
   "execution_count": 2,
   "metadata": {
    "collapsed": false
   },
   "outputs": [
    {
     "data": {
      "text/plain": [
       "count    10000.000000\n",
       "mean        38.921800\n",
       "std         10.487806\n",
       "min         18.000000\n",
       "25%         32.000000\n",
       "50%         37.000000\n",
       "75%         44.000000\n",
       "max         92.000000\n",
       "Name: Age, dtype: float64"
      ]
     },
     "execution_count": 2,
     "metadata": {},
     "output_type": "execute_result"
    }
   ],
   "source": [
    "import pandas as pd\n",
    "df = pd.read_csv(\"Churn_Modelling.csv\")\n",
    "pd.DataFrame.describe(df.Age)\n"
   ]
  },
  {
   "cell_type": "markdown",
   "metadata": {},
   "source": [
    "# Inference:\n",
    "## Minimum age of the person: 18 years\n",
    "## Maximum age of the person: 92 years\n",
    "## 25% of the people have an age is less than 32 years \n",
    "## 50% of the people have an age is less than 37 years \n",
    "## 75% of the people have an age is less than 44 years \n",
    "\n",
    "# Additional summary statistics:\n",
    "## 1. Range : Maximum - Minimum=92 - 18=74 \n",
    "## 2. IQR: Inter Quartile Range=Q3 -Q1=44 - 32=12 \n",
    "## 3. SD: 10.487806 (Age) i.e. on an average the age of the person will be 10.487806 above or below the mean average age. The SD measures how FAR the value is from the mean. According to the Emperical Rule or the 68-95-99.7 Rule:\n",
    "### 68% of the observations lie within +/-1 SD of the mean. \n",
    "### 95% of the observations lie within +/- 2 SD of the mean. \n",
    "### 99.7% of the observations lie within +/- 3 SD of the mean. \n",
    "\n",
    "## 4. Mean: 38.921800 Age i.e. roughly 2 units more than the median or the 50th percentile or Q2."
   ]
  }
 ],
 "metadata": {
  "kernelspec": {
   "display_name": "Python 3",
   "language": "python",
   "name": "python3"
  },
  "language_info": {
   "codemirror_mode": {
    "name": "ipython",
    "version": 3
   },
   "file_extension": ".py",
   "mimetype": "text/x-python",
   "name": "python",
   "nbconvert_exporter": "python",
   "pygments_lexer": "ipython3",
   "version": "3.6.7"
  }
 },
 "nbformat": 4,
 "nbformat_minor": 2
}
