{
 "cells": [
  {
   "cell_type": "markdown",
   "metadata": {},
   "source": [
    "# Access Data"
   ]
  },
  {
   "cell_type": "code",
   "execution_count": 1,
   "metadata": {
    "collapsed": false
   },
   "outputs": [
    {
     "name": "stdout",
     "output_type": "stream",
     "text": [
      "\n",
      "Data Type of the object which stores data:------------->\n",
      " <class 'pandas.core.frame.DataFrame'>\n",
      "\n",
      "Columns in the dataset:----------->\n",
      " Index(['RowNumber', 'CustomerId', 'Surname', 'CreditScore', 'Geography',\n",
      "       'GenderCategory', 'Gender', 'Age', 'Tenure', 'Balance', 'NumOfProducts',\n",
      "       'HasCrCard', 'IsActiveMember', 'EstimatedSalary', 'Exited'],\n",
      "      dtype='object')\n",
      "\n",
      "Column datatypes:------------->\n",
      " RowNumber            int64\n",
      "CustomerId           int64\n",
      "Surname             object\n",
      "CreditScore          int64\n",
      "Geography           object\n",
      "GenderCategory       int64\n",
      "Gender              object\n",
      "Age                  int64\n",
      "Tenure               int64\n",
      "Balance            float64\n",
      "NumOfProducts        int64\n",
      "HasCrCard            int64\n",
      "IsActiveMember       int64\n",
      "EstimatedSalary    float64\n",
      "Exited               int64\n",
      "dtype: object\n",
      "\n",
      "The initial rows:------------->\n",
      "    RowNumber  CustomerId   Surname  CreditScore Geography  GenderCategory  \\\n",
      "0          1    15634602  Hargrave          619    France               1   \n",
      "1          2    15647311      Hill          608     Spain               1   \n",
      "2          3    15619304      Onio          502    France               1   \n",
      "3          4    15701354      Boni          699    France               1   \n",
      "4          5    15737888  Mitchell          850     Spain               1   \n",
      "\n",
      "   Gender  Age  Tenure    Balance  NumOfProducts  HasCrCard  IsActiveMember  \\\n",
      "0  Female   42       2       0.00              1          1               1   \n",
      "1  Female   41       1   83807.86              1          0               1   \n",
      "2  Female   42       8  159660.80              3          1               0   \n",
      "3  Female   39       1       0.00              2          0               0   \n",
      "4  Female   43       2  125510.82              1          1               1   \n",
      "\n",
      "   EstimatedSalary  Exited  \n",
      "0        101348.88       1  \n",
      "1        112542.58       0  \n",
      "2        113931.57       1  \n",
      "3         93826.63       0  \n",
      "4         79084.10       0  \n",
      "\n",
      "The shape of the dataset:---------->\n",
      " (10000, 15)\n"
     ]
    }
   ],
   "source": [
    "import pandas as pd\n",
    "df = pd.read_csv(\"Churn_Modelling.csv\")\n",
    "\n",
    "print(\"\\nData Type of the object which stores data:------------->\\n\", type(df))\n",
    "\n",
    "print(\"\\nColumns in the dataset:----------->\\n\", df.columns)\n",
    "\n",
    "print(\"\\nColumn datatypes:------------->\\n\", df.dtypes)\n",
    "\n",
    "print(\"\\nThe initial rows:------------->\\n\", df.head())\n",
    "\n",
    "print(\"\\nThe shape of the dataset:---------->\\n\", df.shape)"
   ]
  },
  {
   "cell_type": "markdown",
   "metadata": {},
   "source": [
    "# Splice Data\n",
    "# Use anyone of the 3 functions:\n",
    "## .loc(rows, columns) - Used to slice on the basis of indexes, labels(column names)\n",
    "## .iloc(rows, columns) - Integer based slicing, doesnt take ,into consideration column names\n",
    "## .ix() - "
   ]
  },
  {
   "cell_type": "code",
   "execution_count": 2,
   "metadata": {
    "collapsed": false
   },
   "outputs": [
    {
     "data": {
      "text/html": [
       "<div>\n",
       "<style scoped>\n",
       "    .dataframe tbody tr th:only-of-type {\n",
       "        vertical-align: middle;\n",
       "    }\n",
       "\n",
       "    .dataframe tbody tr th {\n",
       "        vertical-align: top;\n",
       "    }\n",
       "\n",
       "    .dataframe thead th {\n",
       "        text-align: right;\n",
       "    }\n",
       "</style>\n",
       "<table border=\"1\" class=\"dataframe\">\n",
       "  <thead>\n",
       "    <tr style=\"text-align: right;\">\n",
       "      <th></th>\n",
       "      <th>Surname</th>\n",
       "      <th>CreditScore</th>\n",
       "    </tr>\n",
       "  </thead>\n",
       "  <tbody>\n",
       "    <tr>\n",
       "      <th>1</th>\n",
       "      <td>Hill</td>\n",
       "      <td>608</td>\n",
       "    </tr>\n",
       "    <tr>\n",
       "      <th>2</th>\n",
       "      <td>Onio</td>\n",
       "      <td>502</td>\n",
       "    </tr>\n",
       "    <tr>\n",
       "      <th>3</th>\n",
       "      <td>Boni</td>\n",
       "      <td>699</td>\n",
       "    </tr>\n",
       "    <tr>\n",
       "      <th>4</th>\n",
       "      <td>Mitchell</td>\n",
       "      <td>850</td>\n",
       "    </tr>\n",
       "  </tbody>\n",
       "</table>\n",
       "</div>"
      ],
      "text/plain": [
       "    Surname  CreditScore\n",
       "1      Hill          608\n",
       "2      Onio          502\n",
       "3      Boni          699\n",
       "4  Mitchell          850"
      ]
     },
     "execution_count": 2,
     "metadata": {},
     "output_type": "execute_result"
    }
   ],
   "source": [
    "df.loc[:,  [\"Geography\"]]                          # All rows within the column \"Geography\"\n",
    "df.loc[:,  [\"Geography\", \"CustomerId\", \"Age\"]]     # All rows within the column \"Geography\", \"CustomerId\", \"Age\"\n",
    "df.loc[:9, [\"Geography\", \"CustomerId\", \"Age\"]]     # Few rows within the column \"Geography\", \"CustomerId\", \"Age\" \n",
    "df.loc[10:15]                                      # Range of rows for all columns\n",
    "\n",
    "df.iloc[:4]                                        # Only rows are specified from 0 till 4 (not included), all columns covered\n",
    "df.iloc[1:5, 2:4]                                  # Only rows 1,2,3,4 and columns 2 & 3.\n",
    "\n",
    "\n"
   ]
  },
  {
   "cell_type": "markdown",
   "metadata": {},
   "source": [
    "# Determine Unique "
   ]
  },
  {
   "cell_type": "code",
   "execution_count": 3,
   "metadata": {
    "collapsed": false
   },
   "outputs": [
    {
     "data": {
      "text/plain": [
       "array([1, 0], dtype=int64)"
      ]
     },
     "execution_count": 3,
     "metadata": {},
     "output_type": "execute_result"
    }
   ],
   "source": [
    "df.Geography.unique()\n",
    "df.Gender.unique()\n",
    "df.GenderCategory.unique()"
   ]
  },
  {
   "cell_type": "markdown",
   "metadata": {},
   "source": [
    "# Group Data"
   ]
  },
  {
   "cell_type": "code",
   "execution_count": 4,
   "metadata": {
    "collapsed": false
   },
   "outputs": [
    {
     "data": {
      "text/plain": [
       "Gender  Geography\n",
       "Female  France       2261\n",
       "        Germany      1193\n",
       "        Spain        1089\n",
       "Male    France       2753\n",
       "        Germany      1316\n",
       "        Spain        1388\n",
       "dtype: int64"
      ]
     },
     "execution_count": 4,
     "metadata": {},
     "output_type": "execute_result"
    }
   ],
   "source": [
    "# Guess the \"Gender\" and the \"GenderCategory\" columns represent the same information. \n",
    "# Lets go a group by and check - They should return the same number of rows.\n",
    "df.groupby([\"Gender\", \"GenderCategory\"]).size()\n",
    "\n",
    "# Lets try the same thing for a different column\n",
    "df.groupby([\"Gender\", \"Geography\"]).size()"
   ]
  }
 ],
 "metadata": {
  "kernelspec": {
   "display_name": "Python 3",
   "language": "python",
   "name": "python3"
  },
  "language_info": {
   "codemirror_mode": {
    "name": "ipython",
    "version": 3
   },
   "file_extension": ".py",
   "mimetype": "text/x-python",
   "name": "python",
   "nbconvert_exporter": "python",
   "pygments_lexer": "ipython3",
   "version": "3.6.0"
  }
 },
 "nbformat": 4,
 "nbformat_minor": 2
}
